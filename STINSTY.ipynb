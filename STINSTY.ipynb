{
 "cells": [
  {
   "cell_type": "markdown",
   "metadata": {},
   "source": [
    "# Section 1. Introduction to the problem/task and dataset"
   ]
  },
  {
   "cell_type": "markdown",
   "metadata": {},
   "source": [
    "The chosen dataset for this machine project is the [FIFA Players Dataset](https://www.kaggle.com/datasets/maso0dahmed/football-players-data). The original dataset contains a total of 17954 rows and 51 features. The features contain identifying data (eg. name, birth_data), performance metrics (eg. overall_rating, freekick_accuracy) and other player-related statistics (eg. balance, agression, stamina). The dataset was created and sourced by Masood Ahmed and Talha Turab and is free to use in Kaggle. The data was scraped by the authors from [SoFIFA.com](https://sofifa.com/), a FIFA player statistic site spanning the various FIFA games.\n",
    "\n",
    "The models aim to predict a players overall rating given relevant features. Therefore, this problem classifies as a regression task. "
   ]
  },
  {
   "cell_type": "markdown",
   "metadata": {},
   "source": [
    "# Section 2. Description of the dataset"
   ]
  },
  {
   "cell_type": "markdown",
   "metadata": {},
   "source": [
    "The dataset only includes one csv file. Each of the \\~18k rows in the dataset represents a FIFA Player. Their 51 columns represent the dataset features. These features include (feature descriptions sourced from the dataset authors, see [here](https://www.kaggle.com/datasets/maso0dahmed/football-players-data/data#:~:text=and%20career%20progressions.-,Features%3A,-name%3A%20Name%20of):\n",
    "\n",
    "## Features\n",
    "\n",
    "- **name**: Name of the player.\n",
    "- **full_name**: Full name of the player.\n",
    "- **birth_date**: Date of birth of the player.\n",
    "- **age**: Age of the player.\n",
    "- **height_cm**: Player's height in centimeters.\n",
    "- **weight_kgs**: Player's weight in kilograms.\n",
    "- **positions**: Positions the player can play.\n",
    "- **nationality**: Player's nationality.\n",
    "- **overall_rating**: Overall rating of the player in FIFA.\n",
    "- **potential**: Potential rating of the player in FIFA.\n",
    "- **value_euro**: Market value of the player in euros.\n",
    "- **wage_euro**: Weekly wage of the player in euros.\n",
    "- **preferred_foot**: Player's preferred foot.\n",
    "- **international_reputation**(1-5): International reputation rating from 1 to 5.\n",
    "- **weak_foot**(1-5): Rating of the player's weaker foot from 1 to 5.\n",
    "- **skill_moves**(1-5): Skill moves rating from 1 to 5.\n",
    "- **body_type**: Player's body type.\n",
    "- **release_clause_euro**: Release clause of the player in euros.\n",
    "- **national_team**: National team of the player.\n",
    "- **national_rating**: Rating in the national team.\n",
    "- **national_team_position**: Position in the national team.\n",
    "- **national_jersey_number**: Jersey number in the national team.\n",
    "- **crossing**: Rating for crossing ability.\n",
    "- **finishing**: Rating for finishing ability.\n",
    "- **heading_accuracy**: Rating for heading accuracy.\n",
    "- **short_passing**: Rating for short passing ability.\n",
    "- **volleys**: Rating for volleys.\n",
    "- **dribbling**: Rating for dribbling.\n",
    "- **curve**: Rating for curve shots.\n",
    "- **freekick_accuracy**: Rating for free kick accuracy.\n",
    "- **long_passing**: Rating for long passing.\n",
    "- **ball_control**: Rating for ball control.\n",
    "- **acceleration**: Rating for acceleration.\n",
    "- **sprint_speed**: Rating for sprint speed.\n",
    "- **agility**: Rating for agility.\n",
    "- **reactions**: Rating for reactions.\n",
    "- **balance**: Rating for balance.\n",
    "- **shot_power**: Rating for shot power.\n",
    "- **jumping**: Rating for jumping.\n",
    "- **stamina**: Rating for stamina.\n",
    "- **strength**: Rating for strength.\n",
    "- **long_shots**: Rating for long shots.\n",
    "- **aggression**: Rating for aggression.\n",
    "- **interceptions**: Rating for interceptions.\n",
    "- **positioning**: Rating for positioning.\n",
    "- **vision**: Rating for vision.\n",
    "- **penalties**: Rating for penalties.\n",
    "- **composure**: Rating for composure.\n",
    "- **marking**: Rating for marking.\n",
    "- **standing_tackle**: Rating for standing tackle.\n",
    "- **sliding_tackle**: Rating for sliding tackle.\n",
    "\n",
    "\n"
   ]
  },
  {
   "cell_type": "markdown",
   "metadata": {},
   "source": [
    "# Section 3. List of requirements"
   ]
  },
  {
   "cell_type": "markdown",
   "metadata": {},
   "source": [
    "All these libraries serve specific purposes and are commonly used when working with statistics and machine learning projects. Pandas for example allows us to transform data into Dataframe and Series data structures and lets us manipulate the data within really easily. Matplotlib and Seaborn are excellent graphing libraries while Scikit-learn lets us easily train and imrpove AI and machine learning models."
   ]
  },
  {
   "cell_type": "markdown",
   "metadata": {},
   "source": [
    "## List of external python libraries\n",
    "1. Pandas\n",
    "2. Numpy\n",
    "3. Matplotlib\n",
    "4. Seaborn\n",
    "5. Scikit-learn"
   ]
  },
  {
   "cell_type": "markdown",
   "metadata": {},
   "source": [
    "# Section 4. Data preprocessing and cleaning"
   ]
  },
  {
   "cell_type": "markdown",
   "metadata": {},
   "source": [
    "## 4a. Importing all relevant libraries"
   ]
  },
  {
   "cell_type": "code",
   "execution_count": 171,
   "metadata": {},
   "outputs": [],
   "source": [
    "import pandas as pd\n",
    "import numpy as np\n",
    "import matplotlib.pyplot as plt\n",
    "import math\n",
    "import seaborn as sns\n",
    "from sklearn.preprocessing import MinMaxScaler, LabelEncoder, QuantileTransformer, StandardScaler\n",
    "import itertools\n",
    "from collections import Counter"
   ]
  },
  {
   "cell_type": "markdown",
   "metadata": {},
   "source": [
    "## 4b. Brief overview of the dataset"
   ]
  },
  {
   "cell_type": "code",
   "execution_count": 172,
   "metadata": {},
   "outputs": [
    {
     "name": "stdout",
     "output_type": "stream",
     "text": [
      "<class 'pandas.core.frame.DataFrame'>\n",
      "RangeIndex: 17954 entries, 0 to 17953\n",
      "Data columns (total 51 columns):\n",
      " #   Column                         Non-Null Count  Dtype  \n",
      "---  ------                         --------------  -----  \n",
      " 0   name                           17954 non-null  object \n",
      " 1   full_name                      17954 non-null  object \n",
      " 2   birth_date                     17954 non-null  object \n",
      " 3   age                            17954 non-null  int64  \n",
      " 4   height_cm                      17954 non-null  float64\n",
      " 5   weight_kgs                     17954 non-null  float64\n",
      " 6   positions                      17954 non-null  object \n",
      " 7   nationality                    17954 non-null  object \n",
      " 8   overall_rating                 17954 non-null  int64  \n",
      " 9   potential                      17954 non-null  int64  \n",
      " 10  value_euro                     17699 non-null  float64\n",
      " 11  wage_euro                      17708 non-null  float64\n",
      " 12  preferred_foot                 17954 non-null  object \n",
      " 13  international_reputation(1-5)  17954 non-null  int64  \n",
      " 14  weak_foot(1-5)                 17954 non-null  int64  \n",
      " 15  skill_moves(1-5)               17954 non-null  int64  \n",
      " 16  body_type                      17954 non-null  object \n",
      " 17  release_clause_euro            16117 non-null  float64\n",
      " 18  national_team                  857 non-null    object \n",
      " 19  national_rating                857 non-null    float64\n",
      " 20  national_team_position         857 non-null    object \n",
      " 21  national_jersey_number         857 non-null    float64\n",
      " 22  crossing                       17954 non-null  int64  \n",
      " 23  finishing                      17954 non-null  int64  \n",
      " 24  heading_accuracy               17954 non-null  int64  \n",
      " 25  short_passing                  17954 non-null  int64  \n",
      " 26  volleys                        17954 non-null  int64  \n",
      " 27  dribbling                      17954 non-null  int64  \n",
      " 28  curve                          17954 non-null  int64  \n",
      " 29  freekick_accuracy              17954 non-null  int64  \n",
      " 30  long_passing                   17954 non-null  int64  \n",
      " 31  ball_control                   17954 non-null  int64  \n",
      " 32  acceleration                   17954 non-null  int64  \n",
      " 33  sprint_speed                   17954 non-null  int64  \n",
      " 34  agility                        17954 non-null  int64  \n",
      " 35  reactions                      17954 non-null  int64  \n",
      " 36  balance                        17954 non-null  int64  \n",
      " 37  shot_power                     17954 non-null  int64  \n",
      " 38  jumping                        17954 non-null  int64  \n",
      " 39  stamina                        17954 non-null  int64  \n",
      " 40  strength                       17954 non-null  int64  \n",
      " 41  long_shots                     17954 non-null  int64  \n",
      " 42  aggression                     17954 non-null  int64  \n",
      " 43  interceptions                  17954 non-null  int64  \n",
      " 44  positioning                    17954 non-null  int64  \n",
      " 45  vision                         17954 non-null  int64  \n",
      " 46  penalties                      17954 non-null  int64  \n",
      " 47  composure                      17954 non-null  int64  \n",
      " 48  marking                        17954 non-null  int64  \n",
      " 49  standing_tackle                17954 non-null  int64  \n",
      " 50  sliding_tackle                 17954 non-null  int64  \n",
      "dtypes: float64(7), int64(35), object(9)\n",
      "memory usage: 7.0+ MB\n"
     ]
    }
   ],
   "source": [
    "df = pd.DataFrame()\n",
    "df = pd.read_csv(\"./fifa_players.csv\")\n",
    "\n",
    "df.info()"
   ]
  },
  {
   "cell_type": "code",
   "execution_count": 173,
   "metadata": {},
   "outputs": [
    {
     "data": {
      "text/html": [
       "<div>\n",
       "<style scoped>\n",
       "    .dataframe tbody tr th:only-of-type {\n",
       "        vertical-align: middle;\n",
       "    }\n",
       "\n",
       "    .dataframe tbody tr th {\n",
       "        vertical-align: top;\n",
       "    }\n",
       "\n",
       "    .dataframe thead th {\n",
       "        text-align: right;\n",
       "    }\n",
       "</style>\n",
       "<table border=\"1\" class=\"dataframe\">\n",
       "  <thead>\n",
       "    <tr style=\"text-align: right;\">\n",
       "      <th></th>\n",
       "      <th>name</th>\n",
       "      <th>full_name</th>\n",
       "      <th>birth_date</th>\n",
       "      <th>age</th>\n",
       "      <th>height_cm</th>\n",
       "      <th>weight_kgs</th>\n",
       "      <th>positions</th>\n",
       "      <th>nationality</th>\n",
       "      <th>overall_rating</th>\n",
       "      <th>potential</th>\n",
       "      <th>...</th>\n",
       "      <th>long_shots</th>\n",
       "      <th>aggression</th>\n",
       "      <th>interceptions</th>\n",
       "      <th>positioning</th>\n",
       "      <th>vision</th>\n",
       "      <th>penalties</th>\n",
       "      <th>composure</th>\n",
       "      <th>marking</th>\n",
       "      <th>standing_tackle</th>\n",
       "      <th>sliding_tackle</th>\n",
       "    </tr>\n",
       "  </thead>\n",
       "  <tbody>\n",
       "    <tr>\n",
       "      <th>0</th>\n",
       "      <td>L. Messi</td>\n",
       "      <td>Lionel Andrés Messi Cuccittini</td>\n",
       "      <td>6/24/1987</td>\n",
       "      <td>31</td>\n",
       "      <td>170.18</td>\n",
       "      <td>72.1</td>\n",
       "      <td>CF,RW,ST</td>\n",
       "      <td>Argentina</td>\n",
       "      <td>94</td>\n",
       "      <td>94</td>\n",
       "      <td>...</td>\n",
       "      <td>94</td>\n",
       "      <td>48</td>\n",
       "      <td>22</td>\n",
       "      <td>94</td>\n",
       "      <td>94</td>\n",
       "      <td>75</td>\n",
       "      <td>96</td>\n",
       "      <td>33</td>\n",
       "      <td>28</td>\n",
       "      <td>26</td>\n",
       "    </tr>\n",
       "    <tr>\n",
       "      <th>1</th>\n",
       "      <td>C. Eriksen</td>\n",
       "      <td>Christian  Dannemann Eriksen</td>\n",
       "      <td>2/14/1992</td>\n",
       "      <td>27</td>\n",
       "      <td>154.94</td>\n",
       "      <td>76.2</td>\n",
       "      <td>CAM,RM,CM</td>\n",
       "      <td>Denmark</td>\n",
       "      <td>88</td>\n",
       "      <td>89</td>\n",
       "      <td>...</td>\n",
       "      <td>89</td>\n",
       "      <td>46</td>\n",
       "      <td>56</td>\n",
       "      <td>84</td>\n",
       "      <td>91</td>\n",
       "      <td>67</td>\n",
       "      <td>88</td>\n",
       "      <td>59</td>\n",
       "      <td>57</td>\n",
       "      <td>22</td>\n",
       "    </tr>\n",
       "    <tr>\n",
       "      <th>2</th>\n",
       "      <td>P. Pogba</td>\n",
       "      <td>Paul Pogba</td>\n",
       "      <td>3/15/1993</td>\n",
       "      <td>25</td>\n",
       "      <td>190.50</td>\n",
       "      <td>83.9</td>\n",
       "      <td>CM,CAM</td>\n",
       "      <td>France</td>\n",
       "      <td>88</td>\n",
       "      <td>91</td>\n",
       "      <td>...</td>\n",
       "      <td>82</td>\n",
       "      <td>78</td>\n",
       "      <td>64</td>\n",
       "      <td>82</td>\n",
       "      <td>88</td>\n",
       "      <td>82</td>\n",
       "      <td>87</td>\n",
       "      <td>63</td>\n",
       "      <td>67</td>\n",
       "      <td>67</td>\n",
       "    </tr>\n",
       "  </tbody>\n",
       "</table>\n",
       "<p>3 rows × 51 columns</p>\n",
       "</div>"
      ],
      "text/plain": [
       "         name                       full_name birth_date  age  height_cm  \\\n",
       "0    L. Messi  Lionel Andrés Messi Cuccittini  6/24/1987   31     170.18   \n",
       "1  C. Eriksen    Christian  Dannemann Eriksen  2/14/1992   27     154.94   \n",
       "2    P. Pogba                      Paul Pogba  3/15/1993   25     190.50   \n",
       "\n",
       "   weight_kgs  positions nationality  overall_rating  potential  ...  \\\n",
       "0        72.1   CF,RW,ST   Argentina              94         94  ...   \n",
       "1        76.2  CAM,RM,CM     Denmark              88         89  ...   \n",
       "2        83.9     CM,CAM      France              88         91  ...   \n",
       "\n",
       "   long_shots  aggression interceptions  positioning  vision  penalties  \\\n",
       "0          94          48            22           94      94         75   \n",
       "1          89          46            56           84      91         67   \n",
       "2          82          78            64           82      88         82   \n",
       "\n",
       "  composure  marking standing_tackle  sliding_tackle  \n",
       "0        96       33              28              26  \n",
       "1        88       59              57              22  \n",
       "2        87       63              67              67  \n",
       "\n",
       "[3 rows x 51 columns]"
      ]
     },
     "execution_count": 173,
     "metadata": {},
     "output_type": "execute_result"
    }
   ],
   "source": [
    "df.head(3)"
   ]
  },
  {
   "cell_type": "markdown",
   "metadata": {},
   "source": [
    "See aggregate metrics of the features. "
   ]
  },
  {
   "cell_type": "code",
   "execution_count": 174,
   "metadata": {},
   "outputs": [
    {
     "data": {
      "text/html": [
       "<div>\n",
       "<style scoped>\n",
       "    .dataframe tbody tr th:only-of-type {\n",
       "        vertical-align: middle;\n",
       "    }\n",
       "\n",
       "    .dataframe tbody tr th {\n",
       "        vertical-align: top;\n",
       "    }\n",
       "\n",
       "    .dataframe thead th {\n",
       "        text-align: right;\n",
       "    }\n",
       "</style>\n",
       "<table border=\"1\" class=\"dataframe\">\n",
       "  <thead>\n",
       "    <tr style=\"text-align: right;\">\n",
       "      <th></th>\n",
       "      <th>age</th>\n",
       "      <th>height_cm</th>\n",
       "      <th>weight_kgs</th>\n",
       "      <th>overall_rating</th>\n",
       "      <th>potential</th>\n",
       "      <th>value_euro</th>\n",
       "      <th>wage_euro</th>\n",
       "      <th>international_reputation(1-5)</th>\n",
       "      <th>weak_foot(1-5)</th>\n",
       "      <th>skill_moves(1-5)</th>\n",
       "      <th>...</th>\n",
       "      <th>long_shots</th>\n",
       "      <th>aggression</th>\n",
       "      <th>interceptions</th>\n",
       "      <th>positioning</th>\n",
       "      <th>vision</th>\n",
       "      <th>penalties</th>\n",
       "      <th>composure</th>\n",
       "      <th>marking</th>\n",
       "      <th>standing_tackle</th>\n",
       "      <th>sliding_tackle</th>\n",
       "    </tr>\n",
       "  </thead>\n",
       "  <tbody>\n",
       "    <tr>\n",
       "      <th>count</th>\n",
       "      <td>17954.000000</td>\n",
       "      <td>17954.000000</td>\n",
       "      <td>17954.000000</td>\n",
       "      <td>17954.000000</td>\n",
       "      <td>17954.000000</td>\n",
       "      <td>1.769900e+04</td>\n",
       "      <td>17708.000000</td>\n",
       "      <td>17954.000000</td>\n",
       "      <td>17954.000000</td>\n",
       "      <td>17954.000000</td>\n",
       "      <td>...</td>\n",
       "      <td>17954.000000</td>\n",
       "      <td>17954.000000</td>\n",
       "      <td>17954.000000</td>\n",
       "      <td>17954.000000</td>\n",
       "      <td>17954.000000</td>\n",
       "      <td>17954.000000</td>\n",
       "      <td>17954.000000</td>\n",
       "      <td>17954.000000</td>\n",
       "      <td>17954.000000</td>\n",
       "      <td>17954.000000</td>\n",
       "    </tr>\n",
       "    <tr>\n",
       "      <th>mean</th>\n",
       "      <td>25.565445</td>\n",
       "      <td>174.946921</td>\n",
       "      <td>75.301047</td>\n",
       "      <td>66.240169</td>\n",
       "      <td>71.430935</td>\n",
       "      <td>2.479280e+06</td>\n",
       "      <td>9902.134628</td>\n",
       "      <td>1.111674</td>\n",
       "      <td>2.945695</td>\n",
       "      <td>2.361034</td>\n",
       "      <td>...</td>\n",
       "      <td>46.852456</td>\n",
       "      <td>55.816531</td>\n",
       "      <td>46.657959</td>\n",
       "      <td>49.857302</td>\n",
       "      <td>53.406260</td>\n",
       "      <td>48.357302</td>\n",
       "      <td>58.680183</td>\n",
       "      <td>47.162861</td>\n",
       "      <td>47.733040</td>\n",
       "      <td>45.705915</td>\n",
       "    </tr>\n",
       "    <tr>\n",
       "      <th>std</th>\n",
       "      <td>4.705708</td>\n",
       "      <td>14.029449</td>\n",
       "      <td>7.083684</td>\n",
       "      <td>6.963730</td>\n",
       "      <td>6.131339</td>\n",
       "      <td>5.687014e+06</td>\n",
       "      <td>21995.593750</td>\n",
       "      <td>0.392168</td>\n",
       "      <td>0.663691</td>\n",
       "      <td>0.763223</td>\n",
       "      <td>...</td>\n",
       "      <td>19.429337</td>\n",
       "      <td>17.394047</td>\n",
       "      <td>20.754649</td>\n",
       "      <td>19.694311</td>\n",
       "      <td>14.156038</td>\n",
       "      <td>15.810844</td>\n",
       "      <td>11.625541</td>\n",
       "      <td>20.037346</td>\n",
       "      <td>21.674973</td>\n",
       "      <td>21.285812</td>\n",
       "    </tr>\n",
       "    <tr>\n",
       "      <th>min</th>\n",
       "      <td>17.000000</td>\n",
       "      <td>152.400000</td>\n",
       "      <td>49.900000</td>\n",
       "      <td>47.000000</td>\n",
       "      <td>48.000000</td>\n",
       "      <td>1.000000e+04</td>\n",
       "      <td>1000.000000</td>\n",
       "      <td>1.000000</td>\n",
       "      <td>1.000000</td>\n",
       "      <td>1.000000</td>\n",
       "      <td>...</td>\n",
       "      <td>3.000000</td>\n",
       "      <td>11.000000</td>\n",
       "      <td>3.000000</td>\n",
       "      <td>2.000000</td>\n",
       "      <td>10.000000</td>\n",
       "      <td>5.000000</td>\n",
       "      <td>12.000000</td>\n",
       "      <td>3.000000</td>\n",
       "      <td>2.000000</td>\n",
       "      <td>3.000000</td>\n",
       "    </tr>\n",
       "    <tr>\n",
       "      <th>25%</th>\n",
       "      <td>22.000000</td>\n",
       "      <td>154.940000</td>\n",
       "      <td>69.900000</td>\n",
       "      <td>62.000000</td>\n",
       "      <td>67.000000</td>\n",
       "      <td>3.250000e+05</td>\n",
       "      <td>1000.000000</td>\n",
       "      <td>1.000000</td>\n",
       "      <td>3.000000</td>\n",
       "      <td>2.000000</td>\n",
       "      <td>...</td>\n",
       "      <td>32.000000</td>\n",
       "      <td>44.000000</td>\n",
       "      <td>26.000000</td>\n",
       "      <td>38.000000</td>\n",
       "      <td>44.000000</td>\n",
       "      <td>38.000000</td>\n",
       "      <td>51.000000</td>\n",
       "      <td>30.000000</td>\n",
       "      <td>27.000000</td>\n",
       "      <td>24.000000</td>\n",
       "    </tr>\n",
       "    <tr>\n",
       "      <th>50%</th>\n",
       "      <td>25.000000</td>\n",
       "      <td>175.260000</td>\n",
       "      <td>74.800000</td>\n",
       "      <td>66.000000</td>\n",
       "      <td>71.000000</td>\n",
       "      <td>7.000000e+05</td>\n",
       "      <td>3000.000000</td>\n",
       "      <td>1.000000</td>\n",
       "      <td>3.000000</td>\n",
       "      <td>2.000000</td>\n",
       "      <td>...</td>\n",
       "      <td>51.000000</td>\n",
       "      <td>59.000000</td>\n",
       "      <td>52.000000</td>\n",
       "      <td>55.000000</td>\n",
       "      <td>55.000000</td>\n",
       "      <td>49.000000</td>\n",
       "      <td>60.000000</td>\n",
       "      <td>52.500000</td>\n",
       "      <td>55.000000</td>\n",
       "      <td>52.000000</td>\n",
       "    </tr>\n",
       "    <tr>\n",
       "      <th>75%</th>\n",
       "      <td>29.000000</td>\n",
       "      <td>185.420000</td>\n",
       "      <td>79.800000</td>\n",
       "      <td>71.000000</td>\n",
       "      <td>75.000000</td>\n",
       "      <td>2.100000e+06</td>\n",
       "      <td>9000.000000</td>\n",
       "      <td>1.000000</td>\n",
       "      <td>3.000000</td>\n",
       "      <td>3.000000</td>\n",
       "      <td>...</td>\n",
       "      <td>62.000000</td>\n",
       "      <td>69.000000</td>\n",
       "      <td>64.000000</td>\n",
       "      <td>64.000000</td>\n",
       "      <td>64.000000</td>\n",
       "      <td>60.000000</td>\n",
       "      <td>67.000000</td>\n",
       "      <td>64.000000</td>\n",
       "      <td>66.000000</td>\n",
       "      <td>64.000000</td>\n",
       "    </tr>\n",
       "    <tr>\n",
       "      <th>max</th>\n",
       "      <td>46.000000</td>\n",
       "      <td>205.740000</td>\n",
       "      <td>110.200000</td>\n",
       "      <td>94.000000</td>\n",
       "      <td>95.000000</td>\n",
       "      <td>1.105000e+08</td>\n",
       "      <td>565000.000000</td>\n",
       "      <td>5.000000</td>\n",
       "      <td>5.000000</td>\n",
       "      <td>5.000000</td>\n",
       "      <td>...</td>\n",
       "      <td>94.000000</td>\n",
       "      <td>95.000000</td>\n",
       "      <td>92.000000</td>\n",
       "      <td>95.000000</td>\n",
       "      <td>94.000000</td>\n",
       "      <td>92.000000</td>\n",
       "      <td>96.000000</td>\n",
       "      <td>94.000000</td>\n",
       "      <td>93.000000</td>\n",
       "      <td>90.000000</td>\n",
       "    </tr>\n",
       "  </tbody>\n",
       "</table>\n",
       "<p>8 rows × 42 columns</p>\n",
       "</div>"
      ],
      "text/plain": [
       "                age     height_cm    weight_kgs  overall_rating     potential  \\\n",
       "count  17954.000000  17954.000000  17954.000000    17954.000000  17954.000000   \n",
       "mean      25.565445    174.946921     75.301047       66.240169     71.430935   \n",
       "std        4.705708     14.029449      7.083684        6.963730      6.131339   \n",
       "min       17.000000    152.400000     49.900000       47.000000     48.000000   \n",
       "25%       22.000000    154.940000     69.900000       62.000000     67.000000   \n",
       "50%       25.000000    175.260000     74.800000       66.000000     71.000000   \n",
       "75%       29.000000    185.420000     79.800000       71.000000     75.000000   \n",
       "max       46.000000    205.740000    110.200000       94.000000     95.000000   \n",
       "\n",
       "         value_euro      wage_euro  international_reputation(1-5)  \\\n",
       "count  1.769900e+04   17708.000000                   17954.000000   \n",
       "mean   2.479280e+06    9902.134628                       1.111674   \n",
       "std    5.687014e+06   21995.593750                       0.392168   \n",
       "min    1.000000e+04    1000.000000                       1.000000   \n",
       "25%    3.250000e+05    1000.000000                       1.000000   \n",
       "50%    7.000000e+05    3000.000000                       1.000000   \n",
       "75%    2.100000e+06    9000.000000                       1.000000   \n",
       "max    1.105000e+08  565000.000000                       5.000000   \n",
       "\n",
       "       weak_foot(1-5)  skill_moves(1-5)  ...    long_shots    aggression  \\\n",
       "count    17954.000000      17954.000000  ...  17954.000000  17954.000000   \n",
       "mean         2.945695          2.361034  ...     46.852456     55.816531   \n",
       "std          0.663691          0.763223  ...     19.429337     17.394047   \n",
       "min          1.000000          1.000000  ...      3.000000     11.000000   \n",
       "25%          3.000000          2.000000  ...     32.000000     44.000000   \n",
       "50%          3.000000          2.000000  ...     51.000000     59.000000   \n",
       "75%          3.000000          3.000000  ...     62.000000     69.000000   \n",
       "max          5.000000          5.000000  ...     94.000000     95.000000   \n",
       "\n",
       "       interceptions   positioning        vision     penalties     composure  \\\n",
       "count   17954.000000  17954.000000  17954.000000  17954.000000  17954.000000   \n",
       "mean       46.657959     49.857302     53.406260     48.357302     58.680183   \n",
       "std        20.754649     19.694311     14.156038     15.810844     11.625541   \n",
       "min         3.000000      2.000000     10.000000      5.000000     12.000000   \n",
       "25%        26.000000     38.000000     44.000000     38.000000     51.000000   \n",
       "50%        52.000000     55.000000     55.000000     49.000000     60.000000   \n",
       "75%        64.000000     64.000000     64.000000     60.000000     67.000000   \n",
       "max        92.000000     95.000000     94.000000     92.000000     96.000000   \n",
       "\n",
       "            marking  standing_tackle  sliding_tackle  \n",
       "count  17954.000000     17954.000000    17954.000000  \n",
       "mean      47.162861        47.733040       45.705915  \n",
       "std       20.037346        21.674973       21.285812  \n",
       "min        3.000000         2.000000        3.000000  \n",
       "25%       30.000000        27.000000       24.000000  \n",
       "50%       52.500000        55.000000       52.000000  \n",
       "75%       64.000000        66.000000       64.000000  \n",
       "max       94.000000        93.000000       90.000000  \n",
       "\n",
       "[8 rows x 42 columns]"
      ]
     },
     "execution_count": 174,
     "metadata": {},
     "output_type": "execute_result"
    }
   ],
   "source": [
    "df.describe()"
   ]
  },
  {
   "cell_type": "markdown",
   "metadata": {},
   "source": [
    "## 4c. Cleaning the dataset"
   ]
  },
  {
   "cell_type": "markdown",
   "metadata": {},
   "source": [
    "First, drop the `potential` column. This is because the goal of the model is to predict a new rating and compare how accurate it is to the `overall_rating`. Since the potential rating of a player is almost 1:1 correlated with this output, the group decided not to use the feature and instead predict only based on other features like skill-related features, etc."
   ]
  },
  {
   "cell_type": "code",
   "execution_count": 175,
   "metadata": {},
   "outputs": [],
   "source": [
    "df= df.drop('potential', axis=1)"
   ]
  },
  {
   "cell_type": "markdown",
   "metadata": {},
   "source": [
    "Checking for null and missing values in our dataset."
   ]
  },
  {
   "cell_type": "code",
   "execution_count": 176,
   "metadata": {},
   "outputs": [
    {
     "data": {
      "text/plain": [
       "name                                 0\n",
       "full_name                            0\n",
       "birth_date                           0\n",
       "age                                  0\n",
       "height_cm                            0\n",
       "weight_kgs                           0\n",
       "positions                            0\n",
       "nationality                          0\n",
       "overall_rating                       0\n",
       "value_euro                         255\n",
       "wage_euro                          246\n",
       "preferred_foot                       0\n",
       "international_reputation(1-5)        0\n",
       "weak_foot(1-5)                       0\n",
       "skill_moves(1-5)                     0\n",
       "body_type                            0\n",
       "release_clause_euro               1837\n",
       "national_team                    17097\n",
       "national_rating                  17097\n",
       "national_team_position           17097\n",
       "national_jersey_number           17097\n",
       "crossing                             0\n",
       "finishing                            0\n",
       "heading_accuracy                     0\n",
       "short_passing                        0\n",
       "volleys                              0\n",
       "dribbling                            0\n",
       "curve                                0\n",
       "freekick_accuracy                    0\n",
       "long_passing                         0\n",
       "ball_control                         0\n",
       "acceleration                         0\n",
       "sprint_speed                         0\n",
       "agility                              0\n",
       "reactions                            0\n",
       "balance                              0\n",
       "shot_power                           0\n",
       "jumping                              0\n",
       "stamina                              0\n",
       "strength                             0\n",
       "long_shots                           0\n",
       "aggression                           0\n",
       "interceptions                        0\n",
       "positioning                          0\n",
       "vision                               0\n",
       "penalties                            0\n",
       "composure                            0\n",
       "marking                              0\n",
       "standing_tackle                      0\n",
       "sliding_tackle                       0\n",
       "dtype: int64"
      ]
     },
     "execution_count": 176,
     "metadata": {},
     "output_type": "execute_result"
    }
   ],
   "source": [
    "df.isnull().sum()"
   ]
  },
  {
   "cell_type": "markdown",
   "metadata": {},
   "source": [
    "To clean the dataset, drop all duplicate values using `drop_duplicates` then columns with high null values with `drop_na`. Additionally, drop columns that act as unique identifiers for rows since they will not help the models' training. Since there are a few rows with null `value_euro` or `wage_euro`, these rows will also be dropped."
   ]
  },
  {
   "cell_type": "code",
   "execution_count": 177,
   "metadata": {},
   "outputs": [
    {
     "data": {
      "text/plain": [
       "'255 rows were dropped'"
      ]
     },
     "execution_count": 177,
     "metadata": {},
     "output_type": "execute_result"
    }
   ],
   "source": [
    "old_length = len(df)\n",
    "\n",
    "# Drop duplicates\n",
    "df = df.drop_duplicates(keep='first', inplace=False)\n",
    "\n",
    "# Drop rows with null 'value_euro' or 'wage_euro'\n",
    "df = df.dropna(subset=[\"value_euro\", \"wage_euro\"])\n",
    "\n",
    "# Drop columns with high null values\n",
    "df = df.drop(columns=[\"release_clause_euro\", \"national_team\", \"national_rating\", \"national_team_position\", \"national_jersey_number\"])\n",
    "\n",
    "# Drop identifier columns\n",
    "df = df.drop(columns=['name', 'full_name', 'birth_date'])\n",
    "\n",
    "# Reset index to adjust the row indices\n",
    "df = df.reset_index(drop=True)\n",
    "\n",
    "new_length = len(df)\n",
    "\n",
    "# Show how many rows were dropped\n",
    "str(old_length - new_length) + \" rows were dropped\"\n"
   ]
  },
  {
   "cell_type": "markdown",
   "metadata": {},
   "source": [
    "## 4d. Invalid rows"
   ]
  },
  {
   "cell_type": "markdown",
   "metadata": {},
   "source": [
    "Features that should have values in range of 0 to 100 will be checked for any invalid data. They will be stored in the `skill_100` dataframe."
   ]
  },
  {
   "cell_type": "code",
   "execution_count": 178,
   "metadata": {},
   "outputs": [
    {
     "data": {
      "text/html": [
       "<div>\n",
       "<style scoped>\n",
       "    .dataframe tbody tr th:only-of-type {\n",
       "        vertical-align: middle;\n",
       "    }\n",
       "\n",
       "    .dataframe tbody tr th {\n",
       "        vertical-align: top;\n",
       "    }\n",
       "\n",
       "    .dataframe thead th {\n",
       "        text-align: right;\n",
       "    }\n",
       "</style>\n",
       "<table border=\"1\" class=\"dataframe\">\n",
       "  <thead>\n",
       "    <tr style=\"text-align: right;\">\n",
       "      <th></th>\n",
       "      <th>acceleration</th>\n",
       "      <th>jumping</th>\n",
       "      <th>aggression</th>\n",
       "      <th>dribbling</th>\n",
       "      <th>short_passing</th>\n",
       "      <th>positioning</th>\n",
       "      <th>reactions</th>\n",
       "      <th>overall_rating</th>\n",
       "      <th>long_shots</th>\n",
       "      <th>freekick_accuracy</th>\n",
       "      <th>...</th>\n",
       "      <th>penalties</th>\n",
       "      <th>balance</th>\n",
       "      <th>strength</th>\n",
       "      <th>ball_control</th>\n",
       "      <th>interceptions</th>\n",
       "      <th>long_passing</th>\n",
       "      <th>composure</th>\n",
       "      <th>sliding_tackle</th>\n",
       "      <th>shot_power</th>\n",
       "      <th>sprint_speed</th>\n",
       "    </tr>\n",
       "  </thead>\n",
       "  <tbody>\n",
       "    <tr>\n",
       "      <th>0</th>\n",
       "      <td>91</td>\n",
       "      <td>68</td>\n",
       "      <td>48</td>\n",
       "      <td>97</td>\n",
       "      <td>92</td>\n",
       "      <td>94</td>\n",
       "      <td>95</td>\n",
       "      <td>94</td>\n",
       "      <td>94</td>\n",
       "      <td>94</td>\n",
       "      <td>...</td>\n",
       "      <td>75</td>\n",
       "      <td>95</td>\n",
       "      <td>66</td>\n",
       "      <td>96</td>\n",
       "      <td>22</td>\n",
       "      <td>89</td>\n",
       "      <td>96</td>\n",
       "      <td>26</td>\n",
       "      <td>85</td>\n",
       "      <td>86</td>\n",
       "    </tr>\n",
       "    <tr>\n",
       "      <th>1</th>\n",
       "      <td>76</td>\n",
       "      <td>50</td>\n",
       "      <td>46</td>\n",
       "      <td>84</td>\n",
       "      <td>91</td>\n",
       "      <td>84</td>\n",
       "      <td>88</td>\n",
       "      <td>88</td>\n",
       "      <td>89</td>\n",
       "      <td>87</td>\n",
       "      <td>...</td>\n",
       "      <td>67</td>\n",
       "      <td>81</td>\n",
       "      <td>58</td>\n",
       "      <td>91</td>\n",
       "      <td>56</td>\n",
       "      <td>89</td>\n",
       "      <td>88</td>\n",
       "      <td>22</td>\n",
       "      <td>84</td>\n",
       "      <td>73</td>\n",
       "    </tr>\n",
       "    <tr>\n",
       "      <th>2</th>\n",
       "      <td>71</td>\n",
       "      <td>83</td>\n",
       "      <td>78</td>\n",
       "      <td>87</td>\n",
       "      <td>86</td>\n",
       "      <td>82</td>\n",
       "      <td>82</td>\n",
       "      <td>88</td>\n",
       "      <td>82</td>\n",
       "      <td>82</td>\n",
       "      <td>...</td>\n",
       "      <td>82</td>\n",
       "      <td>66</td>\n",
       "      <td>87</td>\n",
       "      <td>90</td>\n",
       "      <td>64</td>\n",
       "      <td>90</td>\n",
       "      <td>87</td>\n",
       "      <td>67</td>\n",
       "      <td>90</td>\n",
       "      <td>79</td>\n",
       "    </tr>\n",
       "  </tbody>\n",
       "</table>\n",
       "<p>3 rows × 30 columns</p>\n",
       "</div>"
      ],
      "text/plain": [
       "   acceleration  jumping  aggression  dribbling  short_passing  positioning  \\\n",
       "0            91       68          48         97             92           94   \n",
       "1            76       50          46         84             91           84   \n",
       "2            71       83          78         87             86           82   \n",
       "\n",
       "   reactions  overall_rating  long_shots  freekick_accuracy  ...  penalties  \\\n",
       "0         95              94          94                 94  ...         75   \n",
       "1         88              88          89                 87  ...         67   \n",
       "2         82              88          82                 82  ...         82   \n",
       "\n",
       "   balance  strength  ball_control  interceptions  long_passing  composure  \\\n",
       "0       95        66            96             22            89         96   \n",
       "1       81        58            91             56            89         88   \n",
       "2       66        87            90             64            90         87   \n",
       "\n",
       "   sliding_tackle  shot_power  sprint_speed  \n",
       "0              26          85            86  \n",
       "1              22          84            73  \n",
       "2              67          90            79  \n",
       "\n",
       "[3 rows x 30 columns]"
      ]
     },
     "execution_count": 178,
     "metadata": {},
     "output_type": "execute_result"
    }
   ],
   "source": [
    "skill_100 = df[['acceleration', 'jumping', 'aggression', 'dribbling', 'short_passing', 'positioning', 'reactions', 'overall_rating', 'long_shots', 'freekick_accuracy', 'volleys', 'vision', 'crossing', 'curve', 'agility', 'finishing', 'heading_accuracy', 'standing_tackle', 'marking', 'stamina', 'penalties', 'balance', 'strength', 'ball_control', 'interceptions', 'long_passing', 'composure', 'sliding_tackle', 'shot_power', 'sprint_speed']]\n",
    "skill_100.head(3)"
   ]
  },
  {
   "cell_type": "markdown",
   "metadata": {},
   "source": [
    "As seen, these features are all well within their 0-100 range, meaning there is no need to prune any invalid data."
   ]
  },
  {
   "cell_type": "code",
   "execution_count": 179,
   "metadata": {},
   "outputs": [
    {
     "name": "stdout",
     "output_type": "stream",
     "text": [
      "Number of invalid rows: 0\n"
     ]
    }
   ],
   "source": [
    "invalid_rows = skill_100[(skill_100 < 1).any(axis=1) | (skill_100 > 100).any(axis=1)]\n",
    "\n",
    "print(\"Number of invalid rows:\", len(invalid_rows))"
   ]
  },
  {
   "cell_type": "markdown",
   "metadata": {},
   "source": [
    "Next, all columns with values whose ranges are not limited to 0-100 will stored in `not_skill`."
   ]
  },
  {
   "cell_type": "code",
   "execution_count": 180,
   "metadata": {},
   "outputs": [
    {
     "data": {
      "text/plain": [
       "Index(['age', 'height_cm', 'weight_kgs', 'positions', 'nationality',\n",
       "       'value_euro', 'wage_euro', 'preferred_foot',\n",
       "       'international_reputation(1-5)', 'weak_foot(1-5)', 'skill_moves(1-5)',\n",
       "       'body_type'],\n",
       "      dtype='object')"
      ]
     },
     "execution_count": 180,
     "metadata": {},
     "output_type": "execute_result"
    }
   ],
   "source": [
    "not_skill = df.drop(columns=skill_100.columns)\n",
    "not_skill.columns"
   ]
  },
  {
   "cell_type": "markdown",
   "metadata": {},
   "source": [
    "`not_skill` will be separated into two dataframes containing continuous and categorical data."
   ]
  },
  {
   "cell_type": "code",
   "execution_count": 181,
   "metadata": {},
   "outputs": [],
   "source": [
    "not_skill_int = not_skill[['age', 'height_cm', 'weight_kgs', 'value_euro', 'wage_euro']]\n",
    "not_skill_cat = not_skill.drop(columns=not_skill_int.columns)"
   ]
  },
  {
   "cell_type": "code",
   "execution_count": 182,
   "metadata": {},
   "outputs": [],
   "source": [
    "# gets outliers outside the percentile range of a certain column\n",
    "def get_outliers(col, percentile):\n",
    "    alpha = 1 - percentile\n",
    "    percentile_5 = df[col].quantile(alpha / 2)\n",
    "    percentile_95 = df[col].quantile(1 - (alpha/2))\n",
    "    \n",
    "    in_range = df[col][(df[col] >= percentile_5) & (df[col] <= percentile_95)]\n",
    "    outliers = df[col][(df[col] <= percentile_5) | (df[col] >= percentile_95)]\n",
    "    print(f\"Column: {col}, Outliers: {len(outliers)}, Inlier Range: {percentile_5} - {percentile_95}, Value Range: {df[col].min()} - {df[col].max()}\")"
   ]
  },
  {
   "cell_type": "markdown",
   "metadata": {},
   "source": [
    "See outliers and their ranges for continious columns in `not_skill_int`."
   ]
  },
  {
   "cell_type": "code",
   "execution_count": 183,
   "metadata": {},
   "outputs": [
    {
     "name": "stdout",
     "output_type": "stream",
     "text": [
      "Column: age, Outliers: 1388, Inlier Range: 18.0 - 35.0, Value Range: 17 - 46\n",
      "Column: height_cm, Outliers: 3506, Inlier Range: 152.4 - 193.04, Value Range: 152.4 - 205.74\n",
      "Column: weight_kgs, Outliers: 993, Inlier Range: 62.1 - 89.8, Value Range: 49.9 - 110.2\n",
      "Column: value_euro, Outliers: 985, Inlier Range: 70000.0 - 15500000.0, Value Range: 10000.0 - 110500000.0\n",
      "Column: wage_euro, Outliers: 5292, Inlier Range: 1000.0 - 58000.0, Value Range: 1000.0 - 565000.0\n"
     ]
    }
   ],
   "source": [
    "for col in not_skill_int.columns:\n",
    "    get_outliers(col, 0.95)"
   ]
  },
  {
   "cell_type": "markdown",
   "metadata": {},
   "source": [
    "The maximum and minimum values for these features aren't human errors, so we will not be removing any outliers and will rely on normalization instead."
   ]
  },
  {
   "cell_type": "markdown",
   "metadata": {},
   "source": [
    "Columns in the not_skill_cat dataframe are as follows:"
   ]
  },
  {
   "cell_type": "code",
   "execution_count": 184,
   "metadata": {},
   "outputs": [
    {
     "data": {
      "text/plain": [
       "Index(['positions', 'nationality', 'preferred_foot',\n",
       "       'international_reputation(1-5)', 'weak_foot(1-5)', 'skill_moves(1-5)',\n",
       "       'body_type'],\n",
       "      dtype='object')"
      ]
     },
     "execution_count": 184,
     "metadata": {},
     "output_type": "execute_result"
    }
   ],
   "source": [
    "not_skill_cat.columns"
   ]
  },
  {
   "cell_type": "markdown",
   "metadata": {},
   "source": [
    "First, for `body_type` we check to see if there are any values with too little rows in the dataset."
   ]
  },
  {
   "cell_type": "code",
   "execution_count": 185,
   "metadata": {},
   "outputs": [
    {
     "data": {
      "text/plain": [
       "body_type\n",
       "Normal                 10223\n",
       "Lean                    6400\n",
       "Stocky                  1069\n",
       "Messi                      1\n",
       "Courtois                   1\n",
       "PLAYER_BODY_TYPE_25        1\n",
       "Akinfenwa                  1\n",
       "Shaqiri                    1\n",
       "Neymar                     1\n",
       "C. Ronaldo                 1\n",
       "Name: count, dtype: int64"
      ]
     },
     "execution_count": 185,
     "metadata": {},
     "output_type": "execute_result"
    }
   ],
   "source": [
    "not_skill_cat.body_type.value_counts()"
   ]
  },
  {
   "cell_type": "markdown",
   "metadata": {},
   "source": [
    "Rows containing these values will be dropped."
   ]
  },
  {
   "cell_type": "code",
   "execution_count": 186,
   "metadata": {},
   "outputs": [],
   "source": [
    "df = df[df['body_type'].isin([\"Normal\", \"Lean\", \"Stocky\"])]"
   ]
  },
  {
   "cell_type": "markdown",
   "metadata": {},
   "source": [
    "## 4e. Feature Transformation"
   ]
  },
  {
   "cell_type": "markdown",
   "metadata": {},
   "source": [
    "Look through dataset for multiple representations and to understand the values better"
   ]
  },
  {
   "cell_type": "code",
   "execution_count": 187,
   "metadata": {},
   "outputs": [
    {
     "name": "stdout",
     "output_type": "stream",
     "text": [
      "Data exported to 'dumps/unique_values.txt'\n"
     ]
    }
   ],
   "source": [
    "import os\n",
    "\n",
    "os.makedirs('dumps', exist_ok=True)\n",
    "\n",
    "# Open the text file in write mode with utf-8 encoding\n",
    "with open('dumps/unique_values.txt', 'w', encoding='utf-8') as file:\n",
    "    for column in df.columns:\n",
    "        # print(column + \" column is being written\")\n",
    "        values = sorted(df[column].unique())\n",
    "        file.write(\"Column: \" + column + \"\\n\")\n",
    "        file.write(\"Unique Values = \" + \", \".join(map(str, values)) + \"\\n\")\n",
    "        file.write(str(len(values)) + \" unique values\\n\\n\")\n",
    "        # print(column + \" has been written\")\n",
    "print(\"Data exported to 'dumps/unique_values.txt'\")\n"
   ]
  },
  {
   "cell_type": "markdown",
   "metadata": {},
   "source": [
    "### Encoding"
   ]
  },
  {
   "cell_type": "markdown",
   "metadata": {},
   "source": [
    "Data will be binned using the `nationality` column and group rows by their continent. This is since some countries only have a very few amount of rows associated with them, which may introduce imbalance to the dataset."
   ]
  },
  {
   "cell_type": "code",
   "execution_count": 188,
   "metadata": {},
   "outputs": [],
   "source": [
    "country_to_continent = {\n",
    "    'Afghanistan': 'Asia', 'Albania': 'Europe', 'Algeria': 'Africa', 'Andorra': 'Europe', \n",
    "    'Angola': 'Africa', 'Antigua & Barbuda': 'North America', 'Argentina': 'South America', \n",
    "    'Armenia': 'Asia', 'Australia': 'Oceania', 'Austria': 'Europe', 'Azerbaijan': 'Asia', \n",
    "    'Barbados': 'North America', 'Belarus': 'Europe', 'Belgium': 'Europe', 'Benin': 'Africa', \n",
    "    'Bermuda': 'North America', 'Bolivia': 'South America', 'Bosnia Herzegovina': 'Europe', \n",
    "    'Brazil': 'South America', 'Bulgaria': 'Europe', 'Burkina Faso': 'Africa', 'Burundi': 'Africa', \n",
    "    'Cameroon': 'Africa', 'Canada': 'North America', 'Cape Verde': 'Africa', 'Central African Rep.': 'Africa',\n",
    "    'Chad': 'Africa', 'Chile': 'South America', 'China PR': 'Asia', 'Colombia': 'South America', \n",
    "    'Comoros': 'Africa', 'Congo': 'Africa', 'Costa Rica': 'North America', 'Croatia': 'Europe', \n",
    "    'Cuba': 'North America', 'Curacao': 'North America', 'Cyprus': 'Europe', 'Czech Republic': 'Europe', \n",
    "    'DR Congo': 'Africa', 'Denmark': 'Europe', 'Dominican Republic': 'North America', 'Ecuador': 'South America', \n",
    "    'Egypt': 'Africa', 'El Salvador': 'North America', 'England': 'Europe', 'Equatorial Guinea': 'Africa', \n",
    "    'Eritrea': 'Africa', 'Estonia': 'Europe', 'Ethiopia': 'Africa', 'FYR Macedonia': 'Europe', 'Faroe Islands': 'Europe', \n",
    "    'Fiji': 'Oceania', 'Finland': 'Europe', 'France': 'Europe', 'Gabon': 'Africa', 'Gambia': 'Africa', \n",
    "    'Georgia': 'Asia', 'Germany': 'Europe', 'Ghana': 'Africa', 'Greece': 'Europe', 'Grenada': 'North America', \n",
    "    'Guam': 'Oceania', 'Guatemala': 'North America', 'Guinea': 'Africa', 'Guinea Bissau': 'Africa', \n",
    "    'Guyana': 'South America', 'Haiti': 'North America', 'Honduras': 'North America', 'Hong Kong': 'Asia', \n",
    "    'Hungary': 'Europe', 'Iceland': 'Europe', 'Indonesia': 'Asia', 'Iran': 'Asia', 'Iraq': 'Asia', \n",
    "    'Israel': 'Asia', 'Italy': 'Europe', 'Ivory Coast': 'Africa', 'Jamaica': 'North America', 'Japan': 'Asia', \n",
    "    'Jordan': 'Asia', 'Kazakhstan': 'Asia', 'Kenya': 'Africa', 'Korea DPR': 'Asia', 'Korea Republic': 'Asia', \n",
    "    'Kosovo': 'Europe', 'Kuwait': 'Asia', 'Latvia': 'Europe', 'Liberia': 'Africa', 'Libya': 'Africa', \n",
    "    'Liechtenstein': 'Europe', 'Lithuania': 'Europe', 'Luxembourg': 'Europe', 'Madagascar': 'Africa', \n",
    "    'Mali': 'Africa', 'Malta': 'Europe', 'Mauritania': 'Africa', 'Mexico': 'North America', 'Moldova': 'Europe', \n",
    "    'Montenegro': 'Europe', 'Montserrat': 'North America', 'Morocco': 'Africa', 'Mozambique': 'Africa', \n",
    "    'Namibia': 'Africa', 'Netherlands': 'Europe', 'New Caledonia': 'Oceania', 'New Zealand': 'Oceania', \n",
    "    'Nicaragua': 'North America', 'Nigeria': 'Africa', 'Northern Ireland': 'Europe', 'Norway': 'Europe', \n",
    "    'Oman': 'Asia', 'Palestine': 'Asia', 'Panama': 'North America', 'Papua New Guinea': 'Oceania', \n",
    "    'Paraguay': 'South America', 'Peru': 'South America', 'Philippines': 'Asia', 'Poland': 'Europe', \n",
    "    'Portugal': 'Europe', 'Republic of Ireland': 'Europe', 'Romania': 'Europe', 'Russia': 'Europe', \n",
    "    'Rwanda': 'Africa', 'Saudi Arabia': 'Asia', 'Scotland': 'Europe', 'Senegal': 'Africa', \n",
    "    'Serbia': 'Europe', 'Sierra Leone': 'Africa', 'Slovakia': 'Europe', 'Slovenia': 'Europe', \n",
    "    'South Africa': 'Africa', 'South Sudan': 'Africa', 'Spain': 'Europe', 'St Kitts Nevis': 'North America', \n",
    "    'St Lucia': 'North America', 'Sudan': 'Africa', 'Suriname': 'South America', 'Sweden': 'Europe', \n",
    "    'Switzerland': 'Europe', 'Syria': 'Asia', 'São Tomé & Príncipe': 'Africa', 'Tanzania': 'Africa', \n",
    "    'Thailand': 'Asia', 'Togo': 'Africa', 'Trinidad & Tobago': 'North America', 'Tunisia': 'Africa', \n",
    "    'Turkey': 'Asia', 'Uganda': 'Africa', 'Ukraine': 'Europe', 'United Arab Emirates': 'Asia', \n",
    "    'United States': 'North America', 'Uruguay': 'South America', 'Uzbekistan': 'Asia', 'Venezuela': 'South America', \n",
    "    'Vietnam': 'Asia', 'Wales': 'Europe', 'Yemen': 'Asia', 'Zambia': 'Africa', 'Zimbabwe': 'Africa'\n",
    "}\n",
    "\n",
    "# Map each nationality to its continent\n",
    "df['continent'] = df['nationality'].map(country_to_continent)\n",
    "\n",
    "# Check the result\n",
    "df = df.drop('nationality', axis=1)"
   ]
  },
  {
   "cell_type": "markdown",
   "metadata": {},
   "source": [
    "Next, one-hot-encoding will be performed on the player positions. There are 15 total positions in the one-hot-vector."
   ]
  },
  {
   "cell_type": "code",
   "execution_count": 189,
   "metadata": {},
   "outputs": [
    {
     "data": {
      "text/html": [
       "<div>\n",
       "<style scoped>\n",
       "    .dataframe tbody tr th:only-of-type {\n",
       "        vertical-align: middle;\n",
       "    }\n",
       "\n",
       "    .dataframe tbody tr th {\n",
       "        vertical-align: top;\n",
       "    }\n",
       "\n",
       "    .dataframe thead th {\n",
       "        text-align: right;\n",
       "    }\n",
       "</style>\n",
       "<table border=\"1\" class=\"dataframe\">\n",
       "  <thead>\n",
       "    <tr style=\"text-align: right;\">\n",
       "      <th></th>\n",
       "      <th>CAM</th>\n",
       "      <th>CB</th>\n",
       "      <th>CDM</th>\n",
       "      <th>CF</th>\n",
       "      <th>CM</th>\n",
       "      <th>GK</th>\n",
       "      <th>LB</th>\n",
       "      <th>LM</th>\n",
       "      <th>LW</th>\n",
       "      <th>LWB</th>\n",
       "      <th>RB</th>\n",
       "      <th>RM</th>\n",
       "      <th>RW</th>\n",
       "      <th>RWB</th>\n",
       "      <th>ST</th>\n",
       "    </tr>\n",
       "  </thead>\n",
       "  <tbody>\n",
       "    <tr>\n",
       "      <th>1</th>\n",
       "      <td>1</td>\n",
       "      <td>0</td>\n",
       "      <td>0</td>\n",
       "      <td>0</td>\n",
       "      <td>1</td>\n",
       "      <td>0</td>\n",
       "      <td>0</td>\n",
       "      <td>0</td>\n",
       "      <td>0</td>\n",
       "      <td>0</td>\n",
       "      <td>0</td>\n",
       "      <td>1</td>\n",
       "      <td>0</td>\n",
       "      <td>0</td>\n",
       "      <td>0</td>\n",
       "    </tr>\n",
       "    <tr>\n",
       "      <th>2</th>\n",
       "      <td>1</td>\n",
       "      <td>0</td>\n",
       "      <td>0</td>\n",
       "      <td>0</td>\n",
       "      <td>1</td>\n",
       "      <td>0</td>\n",
       "      <td>0</td>\n",
       "      <td>0</td>\n",
       "      <td>0</td>\n",
       "      <td>0</td>\n",
       "      <td>0</td>\n",
       "      <td>0</td>\n",
       "      <td>0</td>\n",
       "      <td>0</td>\n",
       "      <td>0</td>\n",
       "    </tr>\n",
       "    <tr>\n",
       "      <th>3</th>\n",
       "      <td>0</td>\n",
       "      <td>0</td>\n",
       "      <td>0</td>\n",
       "      <td>0</td>\n",
       "      <td>0</td>\n",
       "      <td>0</td>\n",
       "      <td>0</td>\n",
       "      <td>0</td>\n",
       "      <td>1</td>\n",
       "      <td>0</td>\n",
       "      <td>0</td>\n",
       "      <td>0</td>\n",
       "      <td>0</td>\n",
       "      <td>0</td>\n",
       "      <td>1</td>\n",
       "    </tr>\n",
       "  </tbody>\n",
       "</table>\n",
       "</div>"
      ],
      "text/plain": [
       "   CAM  CB  CDM  CF  CM  GK  LB  LM  LW  LWB  RB  RM  RW  RWB  ST\n",
       "1    1   0    0   0   1   0   0   0   0    0   0   1   0    0   0\n",
       "2    1   0    0   0   1   0   0   0   0    0   0   0   0    0   0\n",
       "3    0   0    0   0   0   0   0   0   1    0   0   0   0    0   1"
      ]
     },
     "execution_count": 189,
     "metadata": {},
     "output_type": "execute_result"
    }
   ],
   "source": [
    "positions_split = df['positions'].str.get_dummies(sep=',')\n",
    "positions_split.head(3)"
   ]
  },
  {
   "cell_type": "markdown",
   "metadata": {},
   "source": [
    "Combine these columns with the dataframe and get rid of the `positions` column."
   ]
  },
  {
   "cell_type": "code",
   "execution_count": 190,
   "metadata": {},
   "outputs": [],
   "source": [
    "df = pd.concat([df, positions_split], axis=1)\n",
    "df = df.drop(columns=['positions'])"
   ]
  },
  {
   "cell_type": "code",
   "execution_count": 191,
   "metadata": {},
   "outputs": [
    {
     "data": {
      "text/plain": [
       "Index(['age', 'height_cm', 'weight_kgs', 'overall_rating', 'value_euro',\n",
       "       'wage_euro', 'preferred_foot', 'international_reputation(1-5)',\n",
       "       'weak_foot(1-5)', 'skill_moves(1-5)', 'body_type', 'crossing',\n",
       "       'finishing', 'heading_accuracy', 'short_passing', 'volleys',\n",
       "       'dribbling', 'curve', 'freekick_accuracy', 'long_passing',\n",
       "       'ball_control', 'acceleration', 'sprint_speed', 'agility', 'reactions',\n",
       "       'balance', 'shot_power', 'jumping', 'stamina', 'strength', 'long_shots',\n",
       "       'aggression', 'interceptions', 'positioning', 'vision', 'penalties',\n",
       "       'composure', 'marking', 'standing_tackle', 'sliding_tackle',\n",
       "       'continent', 'CAM', 'CB', 'CDM', 'CF', 'CM', 'GK', 'LB', 'LM', 'LW',\n",
       "       'LWB', 'RB', 'RM', 'RW', 'RWB', 'ST'],\n",
       "      dtype='object')"
      ]
     },
     "execution_count": 191,
     "metadata": {},
     "output_type": "execute_result"
    }
   ],
   "source": [
    "df.columns"
   ]
  },
  {
   "cell_type": "code",
   "execution_count": 192,
   "metadata": {},
   "outputs": [
    {
     "data": {
      "text/plain": [
       "continent\n",
       "Europe           10401\n",
       "South America     3038\n",
       "Asia              1916\n",
       "Africa            1175\n",
       "North America      892\n",
       "Oceania            270\n",
       "Name: count, dtype: int64"
      ]
     },
     "execution_count": 192,
     "metadata": {},
     "output_type": "execute_result"
    }
   ],
   "source": [
    "df['continent'].value_counts()"
   ]
  },
  {
   "cell_type": "markdown",
   "metadata": {},
   "source": [
    "Continents will be label encoded to make them easier to work with for the models."
   ]
  },
  {
   "cell_type": "markdown",
   "metadata": {},
   "source": [
    "Continents:  \n",
    "> 0 - Africa  \n",
    "1 - Asia  \n",
    "2 - Europe  \n",
    "3 - North America  \n",
    "4 - Oceania  \n",
    "5 - South America"
   ]
  },
  {
   "cell_type": "code",
   "execution_count": 193,
   "metadata": {},
   "outputs": [],
   "source": [
    "labels = df['continent'].unique()"
   ]
  },
  {
   "cell_type": "code",
   "execution_count": 194,
   "metadata": {},
   "outputs": [],
   "source": [
    "le = LabelEncoder()\n",
    "le.fit(labels)\n",
    "df[\"continent\"] = le.transform(df[\"continent\"])"
   ]
  },
  {
   "cell_type": "markdown",
   "metadata": {},
   "source": [
    "See transformed `continent` rows."
   ]
  },
  {
   "cell_type": "code",
   "execution_count": 195,
   "metadata": {},
   "outputs": [
    {
     "data": {
      "text/plain": [
       "continent\n",
       "2    10401\n",
       "5     3038\n",
       "1     1916\n",
       "0     1175\n",
       "3      892\n",
       "4      270\n",
       "Name: count, dtype: int64"
      ]
     },
     "execution_count": 195,
     "metadata": {},
     "output_type": "execute_result"
    }
   ],
   "source": [
    "df['continent'].value_counts()"
   ]
  },
  {
   "cell_type": "markdown",
   "metadata": {},
   "source": [
    "Body types will be label encoded as well."
   ]
  },
  {
   "cell_type": "code",
   "execution_count": 196,
   "metadata": {},
   "outputs": [],
   "source": [
    "labels = df['body_type'].unique()"
   ]
  },
  {
   "cell_type": "code",
   "execution_count": 197,
   "metadata": {},
   "outputs": [],
   "source": [
    "le.fit(labels)\n",
    "df['body_type'] = le.transform(df[\"body_type\"])"
   ]
  },
  {
   "cell_type": "code",
   "execution_count": 198,
   "metadata": {},
   "outputs": [
    {
     "data": {
      "text/plain": [
       "body_type\n",
       "1    10223\n",
       "0     6400\n",
       "2     1069\n",
       "Name: count, dtype: int64"
      ]
     },
     "execution_count": 198,
     "metadata": {},
     "output_type": "execute_result"
    }
   ],
   "source": [
    "df['body_type'].value_counts()"
   ]
  },
  {
   "cell_type": "markdown",
   "metadata": {},
   "source": [
    "Lastly,the same will be done with preferred foot (left, right)."
   ]
  },
  {
   "cell_type": "code",
   "execution_count": 199,
   "metadata": {},
   "outputs": [
    {
     "data": {
      "text/plain": [
       "preferred_foot\n",
       "1    13576\n",
       "0     4116\n",
       "Name: count, dtype: int64"
      ]
     },
     "execution_count": 199,
     "metadata": {},
     "output_type": "execute_result"
    }
   ],
   "source": [
    "labels = df['preferred_foot'].unique()\n",
    "le.fit(labels)\n",
    "df['preferred_foot'] = le.transform(df[\"preferred_foot\"])\n",
    "df['preferred_foot'].value_counts()"
   ]
  },
  {
   "cell_type": "markdown",
   "metadata": {},
   "source": [
    "### Removing highly correlated features"
   ]
  },
  {
   "cell_type": "markdown",
   "metadata": {},
   "source": [
    "Highly correlated features will be removed. First we will drop our y, `overall_rating`."
   ]
  },
  {
   "cell_type": "code",
   "execution_count": 200,
   "metadata": {},
   "outputs": [],
   "source": [
    "X = df\n",
    "X = df.drop('overall_rating', axis=1)\n",
    "y = df['overall_rating']"
   ]
  },
  {
   "cell_type": "markdown",
   "metadata": {},
   "source": [
    "To remove the correlated features, we set our threshhold to be 0.7, where correlations above 0.7 will be dropped. We will first be getting the two most correlated features and comparing both features' correlations with other features in the dataset excluding themselves. The feature with the higher average correlation will be dropped. This continues until there are no more correlations between two features higher than the threshold."
   ]
  },
  {
   "cell_type": "code",
   "execution_count": 201,
   "metadata": {},
   "outputs": [
    {
     "name": "stdout",
     "output_type": "stream",
     "text": [
      "Dropping standing_tackle (0.268) over sliding_tackle (0.256)\n",
      "Dropping ball_control (0.444) over dribbling (0.437)\n",
      "Dropping interceptions (0.258) over sliding_tackle (0.240)\n",
      "Dropping acceleration (0.345) over sprint_speed (0.333)\n",
      "Dropping marking (0.251) over sliding_tackle (0.227)\n",
      "Dropping dribbling (0.425) over positioning (0.407)\n",
      "Dropping short_passing (0.396) over long_passing (0.358)\n",
      "Dropping long_shots (0.386) over shot_power (0.373)\n",
      "Dropping positioning (0.379) over finishing (0.354)\n",
      "Dropping volleys (0.347) over finishing (0.342)\n",
      "Dropping curve (0.356) over freekick_accuracy (0.330)\n",
      "Dropping value_euro (0.153) over wage_euro (0.141)\n",
      "Dropping finishing (0.321) over penalties (0.310)\n",
      "Dropping shot_power (0.320) over penalties (0.298)\n",
      "Dropping GK (0.284) over heading_accuracy (0.239)\n",
      "Dropping agility (0.290) over balance (0.262)\n",
      "Dropping crossing (0.316) over freekick_accuracy (0.284)\n",
      "Dropping freekick_accuracy (0.272) over penalties (0.258)\n",
      "Dropping aggression (0.232) over sliding_tackle (0.208)\n",
      "Dropping long_passing (0.259) over vision (0.255)\n"
     ]
    }
   ],
   "source": [
    "# threshhold for correlaton\n",
    "thresh = 0.7\n",
    "fcorr = 1\n",
    "\n",
    "# if highest correlation between features is less than threshold, break.\n",
    "while fcorr >= thresh:\n",
    "    # unstack correlation matrix\n",
    "    X_corr = X.corr().abs()\n",
    "    uns = X_corr.unstack().reset_index()\n",
    "    \n",
    "    # drop duplicates and identity rows, as well as sort by highest\n",
    "    uns.drop_duplicates(inplace=True)\n",
    "    uns.sort_values(0, inplace=True, ascending=False)\n",
    "    # uns = uns[uns['level_0'] != uns['level_1']]\n",
    "    uns = uns[uns[0] != 1.0]\n",
    "    \n",
    "    # unpack feature 1, feature 2 and corr\n",
    "    f1, f2, fcorr = uns.iloc[0][:]\n",
    "\n",
    "    # stop looping if fcorr is lower than threshhold\n",
    "    if fcorr < thresh:\n",
    "        break\n",
    "\n",
    "    # drop f1, f2 from correlations\n",
    "    f1_corr = pd.DataFrame(X_corr[f1]).drop([f1, f2])\n",
    "    f2_corr = pd.DataFrame(X_corr[f2]).drop([f1, f2])\n",
    "\n",
    "    # mean of other correlated features > threshhold\n",
    "    # f1_s = f1_corr[f1_corr[f1] > thresh].mean().iloc[0]\n",
    "    # f2_s = f2_corr[f2_corr[f2] > thresh].mean().iloc[0]\n",
    "\n",
    "    # number of other correlated features > thresh\n",
    "    # f1_s = len(f1_corr[f1_corr[f1] > thresh])\n",
    "    # f2_s = len(f2_corr[f2_corr[f2] > thresh])\n",
    "\n",
    "    # mean of all other correlated features\n",
    "    f1_s = f1_corr.mean().iloc[0]\n",
    "    f2_s = f2_corr.mean().iloc[0]\n",
    "\n",
    "    # drop feature with highest metric\n",
    "    if f1_s > f2_s:\n",
    "        X.drop(columns=[f1], inplace=True)\n",
    "        print(f'Dropping {f1} ({f1_s:.3f}) over {f2} ({f2_s:.3f})')\n",
    "    else:\n",
    "        X.drop(columns=[f2], inplace=True)\n",
    "        print(f'Dropping {f2} ({f2_s:.3f}) over {f1} ({f1_s:.3f})')"
   ]
  },
  {
   "cell_type": "markdown",
   "metadata": {},
   "source": [
    "All correations are below 0.7."
   ]
  },
  {
   "cell_type": "code",
   "execution_count": 202,
   "metadata": {},
   "outputs": [
    {
     "data": {
      "text/html": [
       "<div>\n",
       "<style scoped>\n",
       "    .dataframe tbody tr th:only-of-type {\n",
       "        vertical-align: middle;\n",
       "    }\n",
       "\n",
       "    .dataframe tbody tr th {\n",
       "        vertical-align: top;\n",
       "    }\n",
       "\n",
       "    .dataframe thead th {\n",
       "        text-align: right;\n",
       "    }\n",
       "</style>\n",
       "<table border=\"1\" class=\"dataframe\">\n",
       "  <thead>\n",
       "    <tr style=\"text-align: right;\">\n",
       "      <th></th>\n",
       "      <th>level_0</th>\n",
       "      <th>level_1</th>\n",
       "      <th>0</th>\n",
       "    </tr>\n",
       "  </thead>\n",
       "  <tbody>\n",
       "    <tr>\n",
       "      <th>602</th>\n",
       "      <td>penalties</td>\n",
       "      <td>skill_moves(1-5)</td>\n",
       "      <td>0.695308</td>\n",
       "    </tr>\n",
       "    <tr>\n",
       "      <th>262</th>\n",
       "      <td>skill_moves(1-5)</td>\n",
       "      <td>penalties</td>\n",
       "      <td>0.695308</td>\n",
       "    </tr>\n",
       "    <tr>\n",
       "      <th>641</th>\n",
       "      <td>composure</td>\n",
       "      <td>reactions</td>\n",
       "      <td>0.692606</td>\n",
       "    </tr>\n",
       "    <tr>\n",
       "      <th>403</th>\n",
       "      <td>reactions</td>\n",
       "      <td>composure</td>\n",
       "      <td>0.692606</td>\n",
       "    </tr>\n",
       "    <tr>\n",
       "      <th>567</th>\n",
       "      <td>vision</td>\n",
       "      <td>skill_moves(1-5)</td>\n",
       "      <td>0.674937</td>\n",
       "    </tr>\n",
       "    <tr>\n",
       "      <th>...</th>\n",
       "      <td>...</td>\n",
       "      <td>...</td>\n",
       "      <td>...</td>\n",
       "    </tr>\n",
       "    <tr>\n",
       "      <th>240</th>\n",
       "      <td>weak_foot(1-5)</td>\n",
       "      <td>RB</td>\n",
       "      <td>0.000476</td>\n",
       "    </tr>\n",
       "    <tr>\n",
       "      <th>734</th>\n",
       "      <td>continent</td>\n",
       "      <td>ST</td>\n",
       "      <td>0.000402</td>\n",
       "    </tr>\n",
       "    <tr>\n",
       "      <th>1210</th>\n",
       "      <td>ST</td>\n",
       "      <td>continent</td>\n",
       "      <td>0.000402</td>\n",
       "    </tr>\n",
       "    <tr>\n",
       "      <th>1088</th>\n",
       "      <td>RM</td>\n",
       "      <td>wage_euro</td>\n",
       "      <td>0.000385</td>\n",
       "    </tr>\n",
       "    <tr>\n",
       "      <th>136</th>\n",
       "      <td>wage_euro</td>\n",
       "      <td>RM</td>\n",
       "      <td>0.000385</td>\n",
       "    </tr>\n",
       "  </tbody>\n",
       "</table>\n",
       "<p>1190 rows × 3 columns</p>\n",
       "</div>"
      ],
      "text/plain": [
       "               level_0           level_1         0\n",
       "602          penalties  skill_moves(1-5)  0.695308\n",
       "262   skill_moves(1-5)         penalties  0.695308\n",
       "641          composure         reactions  0.692606\n",
       "403          reactions         composure  0.692606\n",
       "567             vision  skill_moves(1-5)  0.674937\n",
       "...                ...               ...       ...\n",
       "240     weak_foot(1-5)                RB  0.000476\n",
       "734          continent                ST  0.000402\n",
       "1210                ST         continent  0.000402\n",
       "1088                RM         wage_euro  0.000385\n",
       "136          wage_euro                RM  0.000385\n",
       "\n",
       "[1190 rows x 3 columns]"
      ]
     },
     "execution_count": 202,
     "metadata": {},
     "output_type": "execute_result"
    }
   ],
   "source": [
    "new_X = X.corr().abs().unstack().reset_index().sort_values(0, ascending=False)\n",
    "new_X = new_X[new_X[0] != 1.0]\n",
    "new_X"
   ]
  },
  {
   "cell_type": "code",
   "execution_count": 203,
   "metadata": {},
   "outputs": [
    {
     "name": "stdout",
     "output_type": "stream",
     "text": [
      "TOTAL COLUMNS LEFT: 35, COLUMNS DROPPED: 21\n"
     ]
    }
   ],
   "source": [
    "print(f'TOTAL COLUMNS LEFT: {len(X.columns)}, COLUMNS DROPPED: {len(df.columns) - len(X.columns)}')"
   ]
  },
  {
   "cell_type": "code",
   "execution_count": 204,
   "metadata": {},
   "outputs": [],
   "source": [
    "df = pd.concat([X, y], axis =1 )"
   ]
  },
  {
   "cell_type": "code",
   "execution_count": 205,
   "metadata": {},
   "outputs": [
    {
     "name": "stdout",
     "output_type": "stream",
     "text": [
      "Index(['age', 'height_cm', 'weight_kgs', 'wage_euro', 'preferred_foot',\n",
      "       'international_reputation(1-5)', 'weak_foot(1-5)', 'skill_moves(1-5)',\n",
      "       'body_type', 'heading_accuracy', 'sprint_speed', 'reactions', 'balance',\n",
      "       'jumping', 'stamina', 'strength', 'vision', 'penalties', 'composure',\n",
      "       'sliding_tackle', 'continent', 'CAM', 'CB', 'CDM', 'CF', 'CM', 'LB',\n",
      "       'LM', 'LW', 'LWB', 'RB', 'RM', 'RW', 'RWB', 'ST', 'overall_rating'],\n",
      "      dtype='object')\n"
     ]
    }
   ],
   "source": [
    "print(df.columns)"
   ]
  },
  {
   "cell_type": "markdown",
   "metadata": {},
   "source": [
    "### Distribution"
   ]
  },
  {
   "cell_type": "markdown",
   "metadata": {},
   "source": [
    "The distribution of `age`, `height_cm`, `weight_kgs`, `heading_accuracy`, `sprint_speed`, `balance`, `jumping`, `stamina`, `strength`, `vision`, `composure`, `sliding_tackle`, and `wage_euro` will be examined."
   ]
  },
  {
   "cell_type": "code",
   "execution_count": 206,
   "metadata": {},
   "outputs": [],
   "source": [
    "name = \"age height_cm weight_kgs heading_accuracy sprint_speed balance jumping stamina strength vision composure sliding_tackle\".split(\" \")"
   ]
  },
  {
   "cell_type": "code",
   "execution_count": 207,
   "metadata": {},
   "outputs": [
    {
     "data": {
      "image/png": "[encoded data removed]",
      "text/plain": [
       "<Figure size 800x800 with 12 Axes>"
      ]
     },
     "metadata": {},
     "output_type": "display_data"
    }
   ],
   "source": [
    "# Initialize a 4x3 charts\n",
    "fig, axes = plt.subplots(nrows=4, ncols=3, figsize=(8, 8))\n",
    "\n",
    "# Flatten the axes array (makes it easier to iterate over)\n",
    "axes = axes.flatten()\n",
    "\n",
    "# Loop through each column and plot a histogram\n",
    "for i, column in enumerate(name):\n",
    "    \n",
    "    # Add the histogram\n",
    "    df[column].hist(ax=axes[i], # Define on which ax we're working on\n",
    "                    edgecolor='white', # Color of the border\n",
    "                    color='#69b3a2' # Color of the bins\n",
    "                   )\n",
    "    \n",
    "    # Add title and axis label\n",
    "    axes[i].set_title(f'{column} distribution') \n",
    "    axes[i].set_xlabel(column) \n",
    "    axes[i].set_ylabel('Frequency') \n",
    "\n",
    "# Adjust layout\n",
    "plt.tight_layout()\n",
    "\n",
    "# Show the plot\n",
    "plt.show()"
   ]
  },
  {
   "cell_type": "markdown",
   "metadata": {},
   "source": [
    "As seen, the distributions of these features are skewed, some peing positively skewed, some negatively. A quantile transformation will be performed to see if the feature can be transformed to a normal distribution. This is mainly because quantile transformation works for both positively and negatively skewed data."
   ]
  },
  {
   "cell_type": "code",
   "execution_count": 208,
   "metadata": {},
   "outputs": [],
   "source": [
    "def quantileTranform(df, col):\n",
    "    col_df = df[[col]]\n",
    "    qt = QuantileTransformer(n_quantiles=1000, output_distribution='normal', random_state=0)\n",
    "    strg = f\"trans {col}\"\n",
    "    trans = pd.DataFrame(data=qt.fit_transform(col_df), columns=[strg])\n",
    "    return trans"
   ]
  },
  {
   "cell_type": "code",
   "execution_count": 209,
   "metadata": {},
   "outputs": [],
   "source": [
    "for i in range (len(name)):\n",
    "    strg = f\"quan_tran_{name[i]}\"\n",
    "    df[strg] = quantileTranform(df, name[i])"
   ]
  },
  {
   "cell_type": "code",
   "execution_count": 210,
   "metadata": {},
   "outputs": [],
   "source": [
    "quan_name = \"quan_tran_age quan_tran_height_cm quan_tran_weight_kgs quan_tran_heading_accuracy quan_tran_sprint_speed quan_tran_balance quan_tran_jumping quan_tran_stamina quan_tran_strength quan_tran_vision quan_tran_composure quan_tran_sliding_tackle\".split(\" \")"
   ]
  },
  {
   "cell_type": "code",
   "execution_count": 211,
   "metadata": {},
   "outputs": [
    {
     "data": {
      "image/png": "[encoded data removed]",
      "text/plain": [
       "<Figure size 800x800 with 12 Axes>"
      ]
     },
     "metadata": {},
     "output_type": "display_data"
    }
   ],
   "source": [
    "# Initialize a 3x3 charts\n",
    "fig, axes = plt.subplots(nrows=4, ncols=3, figsize=(8, 8))\n",
    "\n",
    "# Flatten the axes array (makes it easier to iterate over)\n",
    "axes = axes.flatten()\n",
    "\n",
    "# Loop through each column and plot a histogram\n",
    "for i, column in enumerate(quan_name):\n",
    "    \n",
    "    # Add the histogram\n",
    "    df[column].hist(ax=axes[i], # Define on which ax we're working on\n",
    "                    edgecolor='white', # Color of the border\n",
    "                    color='#69b3a2' # Color of the bins\n",
    "                   )\n",
    "    \n",
    "    # Add title and axis label\n",
    "    axes[i].set_title(f'{column}') \n",
    "    axes[i].set_xlabel(column) \n",
    "    axes[i].set_ylabel('Frequency') \n",
    "\n",
    "# Adjust layout\n",
    "plt.tight_layout()\n",
    "\n",
    "# Show the plot\n",
    "plt.show()"
   ]
  },
  {
   "cell_type": "markdown",
   "metadata": {},
   "source": [
    "As shown from the distributions above, after performing a quantile transformation for the features in `name`, most features have now become normally distributed. However, for features such as `height_cm`, the distribution after transforming isn't a perfect normal distribution mainly due to the fact that a majority of the data is in the left side of the distribution. "
   ]
  },
  {
   "cell_type": "markdown",
   "metadata": {},
   "source": [
    "A recirpocal transformation will be done to `wage_euro`. This is mainly because a quantile transformation isn't effective due to the nature of the feature which is extremely positively skewed."
   ]
  },
  {
   "cell_type": "code",
   "execution_count": 212,
   "metadata": {},
   "outputs": [
    {
     "data": {
      "image/png": "[encoded data removed]",
      "text/plain": [
       "<Figure size 1200x600 with 1 Axes>"
      ]
     },
     "metadata": {},
     "output_type": "display_data"
    }
   ],
   "source": [
    "# Create a figure for the distribution plots\n",
    "plt.figure(figsize=(12, 6))\n",
    "\n",
    "# Plot the histogram and KDE for log_wage_euro\n",
    "sns.histplot(df['wage_euro'], kde=True, bins=20, color=\"blue\", alpha=0.6)\n",
    "plt.title(\"Distribution of wage_euro\", fontsize=16)\n",
    "plt.xlabel(\"wage_euro\", fontsize=14)\n",
    "plt.ylabel(\"Frequency\", fontsize=14)\n",
    "plt.show()"
   ]
  },
  {
   "cell_type": "code",
   "execution_count": 213,
   "metadata": {},
   "outputs": [],
   "source": [
    "df['recip_wage'] = np.reciprocal(df['wage_euro'])"
   ]
  },
  {
   "cell_type": "code",
   "execution_count": 214,
   "metadata": {},
   "outputs": [
    {
     "data": {
      "image/png": "[encoded data removed]",
      "text/plain": [
       "<Figure size 1200x600 with 1 Axes>"
      ]
     },
     "metadata": {},
     "output_type": "display_data"
    }
   ],
   "source": [
    "# Create a figure for the distribution plots\n",
    "plt.figure(figsize=(12, 6))\n",
    "\n",
    "# Plot the histogram and KDE for log_wage_euro\n",
    "sns.histplot(df['recip_wage'], kde=True, bins=20, color=\"blue\", alpha=0.6)\n",
    "plt.title(\"Distribution of reciprocal-transformed Wage\", fontsize=16)\n",
    "plt.xlabel(\"recip_wage\", fontsize=14)\n",
    "plt.ylabel(\"Frequency\", fontsize=14)\n",
    "plt.show()"
   ]
  },
  {
   "cell_type": "markdown",
   "metadata": {},
   "source": [
    "After doing a reciprocal distribution, `recip_wage` is now negatively skewed, which is expected, however the data looks more distributed compared to other transformation. `wage_euro` won't be able to be distributed normally due to the nature of the data being extremely positively skewed"
   ]
  },
  {
   "cell_type": "markdown",
   "metadata": {},
   "source": [
    "The untransformed features will now be dropped from the dataframe."
   ]
  },
  {
   "cell_type": "code",
   "execution_count": 215,
   "metadata": {},
   "outputs": [
    {
     "data": {
      "text/plain": [
       "Index(['preferred_foot', 'international_reputation(1-5)', 'weak_foot(1-5)',\n",
       "       'skill_moves(1-5)', 'body_type', 'reactions', 'penalties', 'continent',\n",
       "       'CAM', 'CB', 'CDM', 'CF', 'CM', 'LB', 'LM', 'LW', 'LWB', 'RB', 'RM',\n",
       "       'RW', 'RWB', 'ST', 'overall_rating', 'quan_tran_age',\n",
       "       'quan_tran_height_cm', 'quan_tran_weight_kgs',\n",
       "       'quan_tran_heading_accuracy', 'quan_tran_sprint_speed',\n",
       "       'quan_tran_balance', 'quan_tran_jumping', 'quan_tran_stamina',\n",
       "       'quan_tran_strength', 'quan_tran_vision', 'quan_tran_composure',\n",
       "       'quan_tran_sliding_tackle', 'recip_wage'],\n",
       "      dtype='object')"
      ]
     },
     "execution_count": 215,
     "metadata": {},
     "output_type": "execute_result"
    }
   ],
   "source": [
    "df = df.drop(columns=name)\n",
    "df = df.drop(columns='wage_euro')\n",
    "df.columns"
   ]
  },
  {
   "cell_type": "markdown",
   "metadata": {},
   "source": [
    "As Quantile Transformation distributing the data into uniform sets, if there is any data that is outside the range, these will be turned into null. So null values will be checked again."
   ]
  },
  {
   "cell_type": "code",
   "execution_count": 216,
   "metadata": {},
   "outputs": [
    {
     "data": {
      "text/plain": [
       "preferred_foot                   0\n",
       "international_reputation(1-5)    0\n",
       "weak_foot(1-5)                   0\n",
       "skill_moves(1-5)                 0\n",
       "body_type                        0\n",
       "reactions                        0\n",
       "penalties                        0\n",
       "continent                        0\n",
       "CAM                              0\n",
       "CB                               0\n",
       "CDM                              0\n",
       "CF                               0\n",
       "CM                               0\n",
       "LB                               0\n",
       "LM                               0\n",
       "LW                               0\n",
       "LWB                              0\n",
       "RB                               0\n",
       "RM                               0\n",
       "RW                               0\n",
       "RWB                              0\n",
       "ST                               0\n",
       "overall_rating                   0\n",
       "quan_tran_age                    7\n",
       "quan_tran_height_cm              7\n",
       "quan_tran_weight_kgs             7\n",
       "quan_tran_heading_accuracy       7\n",
       "quan_tran_sprint_speed           7\n",
       "quan_tran_balance                7\n",
       "quan_tran_jumping                7\n",
       "quan_tran_stamina                7\n",
       "quan_tran_strength               7\n",
       "quan_tran_vision                 7\n",
       "quan_tran_composure              7\n",
       "quan_tran_sliding_tackle         7\n",
       "recip_wage                       0\n",
       "dtype: int64"
      ]
     },
     "execution_count": 216,
     "metadata": {},
     "output_type": "execute_result"
    }
   ],
   "source": [
    "df.isnull().sum()"
   ]
  },
  {
   "cell_type": "markdown",
   "metadata": {},
   "source": [
    "These rows will null values will then be dropped as there are only seven instances of nulls."
   ]
  },
  {
   "cell_type": "code",
   "execution_count": 217,
   "metadata": {},
   "outputs": [],
   "source": [
    "df = df.dropna(subset=quan_name)"
   ]
  },
  {
   "cell_type": "code",
   "execution_count": 218,
   "metadata": {},
   "outputs": [
    {
     "name": "stdout",
     "output_type": "stream",
     "text": [
      "<class 'pandas.core.frame.DataFrame'>\n",
      "Index: 17685 entries, 1 to 17691\n",
      "Data columns (total 36 columns):\n",
      " #   Column                         Non-Null Count  Dtype  \n",
      "---  ------                         --------------  -----  \n",
      " 0   preferred_foot                 17685 non-null  int32  \n",
      " 1   international_reputation(1-5)  17685 non-null  int64  \n",
      " 2   weak_foot(1-5)                 17685 non-null  int64  \n",
      " 3   skill_moves(1-5)               17685 non-null  int64  \n",
      " 4   body_type                      17685 non-null  int32  \n",
      " 5   reactions                      17685 non-null  int64  \n",
      " 6   penalties                      17685 non-null  int64  \n",
      " 7   continent                      17685 non-null  int32  \n",
      " 8   CAM                            17685 non-null  int64  \n",
      " 9   CB                             17685 non-null  int64  \n",
      " 10  CDM                            17685 non-null  int64  \n",
      " 11  CF                             17685 non-null  int64  \n",
      " 12  CM                             17685 non-null  int64  \n",
      " 13  LB                             17685 non-null  int64  \n",
      " 14  LM                             17685 non-null  int64  \n",
      " 15  LW                             17685 non-null  int64  \n",
      " 16  LWB                            17685 non-null  int64  \n",
      " 17  RB                             17685 non-null  int64  \n",
      " 18  RM                             17685 non-null  int64  \n",
      " 19  RW                             17685 non-null  int64  \n",
      " 20  RWB                            17685 non-null  int64  \n",
      " 21  ST                             17685 non-null  int64  \n",
      " 22  overall_rating                 17685 non-null  int64  \n",
      " 23  quan_tran_age                  17685 non-null  float64\n",
      " 24  quan_tran_height_cm            17685 non-null  float64\n",
      " 25  quan_tran_weight_kgs           17685 non-null  float64\n",
      " 26  quan_tran_heading_accuracy     17685 non-null  float64\n",
      " 27  quan_tran_sprint_speed         17685 non-null  float64\n",
      " 28  quan_tran_balance              17685 non-null  float64\n",
      " 29  quan_tran_jumping              17685 non-null  float64\n",
      " 30  quan_tran_stamina              17685 non-null  float64\n",
      " 31  quan_tran_strength             17685 non-null  float64\n",
      " 32  quan_tran_vision               17685 non-null  float64\n",
      " 33  quan_tran_composure            17685 non-null  float64\n",
      " 34  quan_tran_sliding_tackle       17685 non-null  float64\n",
      " 35  recip_wage                     17685 non-null  float64\n",
      "dtypes: float64(13), int32(3), int64(20)\n",
      "memory usage: 4.8 MB\n"
     ]
    }
   ],
   "source": [
    "df.info()"
   ]
  },
  {
   "cell_type": "markdown",
   "metadata": {},
   "source": [
    "## 4g. Normalization and Standardization"
   ]
  },
  {
   "cell_type": "markdown",
   "metadata": {},
   "source": [
    "### Standard Scaling"
   ]
  },
  {
   "cell_type": "markdown",
   "metadata": {},
   "source": [
    "Standard Scaler will be used to standardize the data."
   ]
  },
  {
   "cell_type": "code",
   "execution_count": 219,
   "metadata": {},
   "outputs": [],
   "source": [
    "y = df['overall_rating']"
   ]
  },
  {
   "cell_type": "code",
   "execution_count": 220,
   "metadata": {},
   "outputs": [],
   "source": [
    "X = df.drop('overall_rating', axis=1)"
   ]
  },
  {
   "cell_type": "code",
   "execution_count": 221,
   "metadata": {},
   "outputs": [],
   "source": [
    "scaler = StandardScaler()\n",
    "X_scaled = scaler.fit_transform(X)\n",
    "X_scaled = pd.DataFrame(X_scaled, columns=X.columns)"
   ]
  },
  {
   "cell_type": "code",
   "execution_count": 222,
   "metadata": {},
   "outputs": [
    {
     "data": {
      "text/html": [
       "<div>\n",
       "<style scoped>\n",
       "    .dataframe tbody tr th:only-of-type {\n",
       "        vertical-align: middle;\n",
       "    }\n",
       "\n",
       "    .dataframe tbody tr th {\n",
       "        vertical-align: top;\n",
       "    }\n",
       "\n",
       "    .dataframe thead th {\n",
       "        text-align: right;\n",
       "    }\n",
       "</style>\n",
       "<table border=\"1\" class=\"dataframe\">\n",
       "  <thead>\n",
       "    <tr style=\"text-align: right;\">\n",
       "      <th></th>\n",
       "      <th>preferred_foot</th>\n",
       "      <th>international_reputation(1-5)</th>\n",
       "      <th>weak_foot(1-5)</th>\n",
       "      <th>skill_moves(1-5)</th>\n",
       "      <th>body_type</th>\n",
       "      <th>reactions</th>\n",
       "      <th>penalties</th>\n",
       "      <th>continent</th>\n",
       "      <th>CAM</th>\n",
       "      <th>CB</th>\n",
       "      <th>...</th>\n",
       "      <th>quan_tran_sprint_speed</th>\n",
       "      <th>quan_tran_balance</th>\n",
       "      <th>quan_tran_jumping</th>\n",
       "      <th>quan_tran_stamina</th>\n",
       "      <th>quan_tran_strength</th>\n",
       "      <th>quan_tran_vision</th>\n",
       "      <th>quan_tran_composure</th>\n",
       "      <th>quan_tran_sliding_tackle</th>\n",
       "      <th>recip_wage</th>\n",
       "      <th>overall_rating</th>\n",
       "    </tr>\n",
       "  </thead>\n",
       "  <tbody>\n",
       "    <tr>\n",
       "      <th>0</th>\n",
       "      <td>0.550587</td>\n",
       "      <td>4.858771</td>\n",
       "      <td>3.099179</td>\n",
       "      <td>2.149940</td>\n",
       "      <td>-1.213477</td>\n",
       "      <td>2.887772</td>\n",
       "      <td>1.182556</td>\n",
       "      <td>-0.257144</td>\n",
       "      <td>2.688044</td>\n",
       "      <td>-0.507587</td>\n",
       "      <td>...</td>\n",
       "      <td>1.118292</td>\n",
       "      <td>0.010709</td>\n",
       "      <td>1.647198</td>\n",
       "      <td>1.993478</td>\n",
       "      <td>1.943374</td>\n",
       "      <td>3.075977</td>\n",
       "      <td>2.864278</td>\n",
       "      <td>0.974736</td>\n",
       "      <td>-1.163252</td>\n",
       "      <td>88</td>\n",
       "    </tr>\n",
       "    <tr>\n",
       "      <th>1</th>\n",
       "      <td>0.550587</td>\n",
       "      <td>7.430908</td>\n",
       "      <td>1.590744</td>\n",
       "      <td>3.462436</td>\n",
       "      <td>0.523499</td>\n",
       "      <td>2.226587</td>\n",
       "      <td>2.133135</td>\n",
       "      <td>-0.257144</td>\n",
       "      <td>2.688044</td>\n",
       "      <td>-0.507587</td>\n",
       "      <td>...</td>\n",
       "      <td>1.777044</td>\n",
       "      <td>2.820243</td>\n",
       "      <td>-1.078564</td>\n",
       "      <td>0.788862</td>\n",
       "      <td>-1.477813</td>\n",
       "      <td>2.953935</td>\n",
       "      <td>2.373774</td>\n",
       "      <td>-0.755805</td>\n",
       "      <td>-1.165814</td>\n",
       "      <td>88</td>\n",
       "    </tr>\n",
       "    <tr>\n",
       "      <th>2</th>\n",
       "      <td>0.550587</td>\n",
       "      <td>4.858771</td>\n",
       "      <td>1.590744</td>\n",
       "      <td>2.149940</td>\n",
       "      <td>0.523499</td>\n",
       "      <td>2.336785</td>\n",
       "      <td>0.802324</td>\n",
       "      <td>-0.257144</td>\n",
       "      <td>-0.372018</td>\n",
       "      <td>-0.507587</td>\n",
       "      <td>...</td>\n",
       "      <td>0.679948</td>\n",
       "      <td>-1.437016</td>\n",
       "      <td>1.432233</td>\n",
       "      <td>0.788862</td>\n",
       "      <td>3.293652</td>\n",
       "      <td>-0.380793</td>\n",
       "      <td>2.031249</td>\n",
       "      <td>3.140468</td>\n",
       "      <td>-1.160084</td>\n",
       "      <td>88</td>\n",
       "    </tr>\n",
       "    <tr>\n",
       "      <th>3</th>\n",
       "      <td>0.550587</td>\n",
       "      <td>4.858771</td>\n",
       "      <td>0.082309</td>\n",
       "      <td>-0.475051</td>\n",
       "      <td>0.523499</td>\n",
       "      <td>2.226587</td>\n",
       "      <td>-0.972090</td>\n",
       "      <td>-1.706345</td>\n",
       "      <td>-0.372018</td>\n",
       "      <td>1.970105</td>\n",
       "      <td>...</td>\n",
       "      <td>0.900135</td>\n",
       "      <td>-1.018823</td>\n",
       "      <td>2.101556</td>\n",
       "      <td>0.788862</td>\n",
       "      <td>2.698713</td>\n",
       "      <td>0.374412</td>\n",
       "      <td>2.864278</td>\n",
       "      <td>2.717630</td>\n",
       "      <td>-1.156475</td>\n",
       "      <td>88</td>\n",
       "    </tr>\n",
       "    <tr>\n",
       "      <th>4</th>\n",
       "      <td>0.550587</td>\n",
       "      <td>4.858771</td>\n",
       "      <td>0.082309</td>\n",
       "      <td>-0.475051</td>\n",
       "      <td>0.523499</td>\n",
       "      <td>2.777575</td>\n",
       "      <td>0.865696</td>\n",
       "      <td>-0.257144</td>\n",
       "      <td>-0.372018</td>\n",
       "      <td>1.970105</td>\n",
       "      <td>...</td>\n",
       "      <td>5.181816</td>\n",
       "      <td>1.498687</td>\n",
       "      <td>0.900194</td>\n",
       "      <td>1.536149</td>\n",
       "      <td>0.403631</td>\n",
       "      <td>2.444799</td>\n",
       "      <td>2.734151</td>\n",
       "      <td>-0.440948</td>\n",
       "      <td>-1.163860</td>\n",
       "      <td>88</td>\n",
       "    </tr>\n",
       "    <tr>\n",
       "      <th>...</th>\n",
       "      <td>...</td>\n",
       "      <td>...</td>\n",
       "      <td>...</td>\n",
       "      <td>...</td>\n",
       "      <td>...</td>\n",
       "      <td>...</td>\n",
       "      <td>...</td>\n",
       "      <td>...</td>\n",
       "      <td>...</td>\n",
       "      <td>...</td>\n",
       "      <td>...</td>\n",
       "      <td>...</td>\n",
       "      <td>...</td>\n",
       "      <td>...</td>\n",
       "      <td>...</td>\n",
       "      <td>...</td>\n",
       "      <td>...</td>\n",
       "      <td>...</td>\n",
       "      <td>...</td>\n",
       "      <td>...</td>\n",
       "      <td>...</td>\n",
       "    </tr>\n",
       "    <tr>\n",
       "      <th>17680</th>\n",
       "      <td>0.550587</td>\n",
       "      <td>7.430908</td>\n",
       "      <td>1.590744</td>\n",
       "      <td>2.149940</td>\n",
       "      <td>0.523499</td>\n",
       "      <td>3.108167</td>\n",
       "      <td>2.386622</td>\n",
       "      <td>-0.257144</td>\n",
       "      <td>-0.372018</td>\n",
       "      <td>-0.507587</td>\n",
       "      <td>...</td>\n",
       "      <td>-0.645670</td>\n",
       "      <td>-0.352226</td>\n",
       "      <td>1.941281</td>\n",
       "      <td>-0.113097</td>\n",
       "      <td>0.488446</td>\n",
       "      <td>-0.131042</td>\n",
       "      <td>0.400270</td>\n",
       "      <td>1.065890</td>\n",
       "      <td>-1.168441</td>\n",
       "      <td>91</td>\n",
       "    </tr>\n",
       "    <tr>\n",
       "      <th>17681</th>\n",
       "      <td>0.550587</td>\n",
       "      <td>7.430908</td>\n",
       "      <td>3.099179</td>\n",
       "      <td>2.149940</td>\n",
       "      <td>0.523499</td>\n",
       "      <td>3.218364</td>\n",
       "      <td>1.943019</td>\n",
       "      <td>-0.257144</td>\n",
       "      <td>2.688044</td>\n",
       "      <td>-0.507587</td>\n",
       "      <td>...</td>\n",
       "      <td>1.293274</td>\n",
       "      <td>2.061701</td>\n",
       "      <td>0.483689</td>\n",
       "      <td>-0.113097</td>\n",
       "      <td>-2.139280</td>\n",
       "      <td>1.399606</td>\n",
       "      <td>0.218326</td>\n",
       "      <td>-1.074971</td>\n",
       "      <td>-1.168774</td>\n",
       "      <td>91</td>\n",
       "    </tr>\n",
       "    <tr>\n",
       "      <th>17682</th>\n",
       "      <td>0.550587</td>\n",
       "      <td>7.430908</td>\n",
       "      <td>0.082309</td>\n",
       "      <td>-1.787547</td>\n",
       "      <td>-1.213477</td>\n",
       "      <td>3.108167</td>\n",
       "      <td>-0.528486</td>\n",
       "      <td>-0.257144</td>\n",
       "      <td>-0.372018</td>\n",
       "      <td>-0.507587</td>\n",
       "      <td>...</td>\n",
       "      <td>1.777044</td>\n",
       "      <td>1.415257</td>\n",
       "      <td>1.089791</td>\n",
       "      <td>0.788862</td>\n",
       "      <td>-0.200651</td>\n",
       "      <td>0.675931</td>\n",
       "      <td>-0.308941</td>\n",
       "      <td>-1.006173</td>\n",
       "      <td>-1.166016</td>\n",
       "      <td>91</td>\n",
       "    </tr>\n",
       "    <tr>\n",
       "      <th>17683</th>\n",
       "      <td>-1.816242</td>\n",
       "      <td>-0.285502</td>\n",
       "      <td>1.590744</td>\n",
       "      <td>-0.475051</td>\n",
       "      <td>0.523499</td>\n",
       "      <td>-0.528350</td>\n",
       "      <td>0.105233</td>\n",
       "      <td>-0.257144</td>\n",
       "      <td>-0.372018</td>\n",
       "      <td>-0.507587</td>\n",
       "      <td>...</td>\n",
       "      <td>1.777044</td>\n",
       "      <td>0.599850</td>\n",
       "      <td>-0.685229</td>\n",
       "      <td>-0.588735</td>\n",
       "      <td>-1.200325</td>\n",
       "      <td>-0.199455</td>\n",
       "      <td>-0.553288</td>\n",
       "      <td>-1.074971</td>\n",
       "      <td>-0.506537</td>\n",
       "      <td>67</td>\n",
       "    </tr>\n",
       "    <tr>\n",
       "      <th>17684</th>\n",
       "      <td>0.550587</td>\n",
       "      <td>-0.285502</td>\n",
       "      <td>0.082309</td>\n",
       "      <td>0.837444</td>\n",
       "      <td>0.523499</td>\n",
       "      <td>-0.197757</td>\n",
       "      <td>0.422093</td>\n",
       "      <td>1.916657</td>\n",
       "      <td>-0.372018</td>\n",
       "      <td>1.970105</td>\n",
       "      <td>...</td>\n",
       "      <td>0.392227</td>\n",
       "      <td>-0.478536</td>\n",
       "      <td>-0.505969</td>\n",
       "      <td>-0.636921</td>\n",
       "      <td>0.044517</td>\n",
       "      <td>-0.380793</td>\n",
       "      <td>-1.157528</td>\n",
       "      <td>-0.808272</td>\n",
       "      <td>1.502814</td>\n",
       "      <td>67</td>\n",
       "    </tr>\n",
       "  </tbody>\n",
       "</table>\n",
       "<p>17685 rows × 36 columns</p>\n",
       "</div>"
      ],
      "text/plain": [
       "       preferred_foot  international_reputation(1-5)  weak_foot(1-5)  \\\n",
       "0            0.550587                       4.858771        3.099179   \n",
       "1            0.550587                       7.430908        1.590744   \n",
       "2            0.550587                       4.858771        1.590744   \n",
       "3            0.550587                       4.858771        0.082309   \n",
       "4            0.550587                       4.858771        0.082309   \n",
       "...               ...                            ...             ...   \n",
       "17680        0.550587                       7.430908        1.590744   \n",
       "17681        0.550587                       7.430908        3.099179   \n",
       "17682        0.550587                       7.430908        0.082309   \n",
       "17683       -1.816242                      -0.285502        1.590744   \n",
       "17684        0.550587                      -0.285502        0.082309   \n",
       "\n",
       "       skill_moves(1-5)  body_type  reactions  penalties  continent       CAM  \\\n",
       "0              2.149940  -1.213477   2.887772   1.182556  -0.257144  2.688044   \n",
       "1              3.462436   0.523499   2.226587   2.133135  -0.257144  2.688044   \n",
       "2              2.149940   0.523499   2.336785   0.802324  -0.257144 -0.372018   \n",
       "3             -0.475051   0.523499   2.226587  -0.972090  -1.706345 -0.372018   \n",
       "4             -0.475051   0.523499   2.777575   0.865696  -0.257144 -0.372018   \n",
       "...                 ...        ...        ...        ...        ...       ...   \n",
       "17680          2.149940   0.523499   3.108167   2.386622  -0.257144 -0.372018   \n",
       "17681          2.149940   0.523499   3.218364   1.943019  -0.257144  2.688044   \n",
       "17682         -1.787547  -1.213477   3.108167  -0.528486  -0.257144 -0.372018   \n",
       "17683         -0.475051   0.523499  -0.528350   0.105233  -0.257144 -0.372018   \n",
       "17684          0.837444   0.523499  -0.197757   0.422093   1.916657 -0.372018   \n",
       "\n",
       "             CB  ...  quan_tran_sprint_speed  quan_tran_balance  \\\n",
       "0     -0.507587  ...                1.118292           0.010709   \n",
       "1     -0.507587  ...                1.777044           2.820243   \n",
       "2     -0.507587  ...                0.679948          -1.437016   \n",
       "3      1.970105  ...                0.900135          -1.018823   \n",
       "4      1.970105  ...                5.181816           1.498687   \n",
       "...         ...  ...                     ...                ...   \n",
       "17680 -0.507587  ...               -0.645670          -0.352226   \n",
       "17681 -0.507587  ...                1.293274           2.061701   \n",
       "17682 -0.507587  ...                1.777044           1.415257   \n",
       "17683 -0.507587  ...                1.777044           0.599850   \n",
       "17684  1.970105  ...                0.392227          -0.478536   \n",
       "\n",
       "       quan_tran_jumping  quan_tran_stamina  quan_tran_strength  \\\n",
       "0               1.647198           1.993478            1.943374   \n",
       "1              -1.078564           0.788862           -1.477813   \n",
       "2               1.432233           0.788862            3.293652   \n",
       "3               2.101556           0.788862            2.698713   \n",
       "4               0.900194           1.536149            0.403631   \n",
       "...                  ...                ...                 ...   \n",
       "17680           1.941281          -0.113097            0.488446   \n",
       "17681           0.483689          -0.113097           -2.139280   \n",
       "17682           1.089791           0.788862           -0.200651   \n",
       "17683          -0.685229          -0.588735           -1.200325   \n",
       "17684          -0.505969          -0.636921            0.044517   \n",
       "\n",
       "       quan_tran_vision  quan_tran_composure  quan_tran_sliding_tackle  \\\n",
       "0              3.075977             2.864278                  0.974736   \n",
       "1              2.953935             2.373774                 -0.755805   \n",
       "2             -0.380793             2.031249                  3.140468   \n",
       "3              0.374412             2.864278                  2.717630   \n",
       "4              2.444799             2.734151                 -0.440948   \n",
       "...                 ...                  ...                       ...   \n",
       "17680         -0.131042             0.400270                  1.065890   \n",
       "17681          1.399606             0.218326                 -1.074971   \n",
       "17682          0.675931            -0.308941                 -1.006173   \n",
       "17683         -0.199455            -0.553288                 -1.074971   \n",
       "17684         -0.380793            -1.157528                 -0.808272   \n",
       "\n",
       "       recip_wage  overall_rating  \n",
       "0       -1.163252              88  \n",
       "1       -1.165814              88  \n",
       "2       -1.160084              88  \n",
       "3       -1.156475              88  \n",
       "4       -1.163860              88  \n",
       "...           ...             ...  \n",
       "17680   -1.168441              91  \n",
       "17681   -1.168774              91  \n",
       "17682   -1.166016              91  \n",
       "17683   -0.506537              67  \n",
       "17684    1.502814              67  \n",
       "\n",
       "[17685 rows x 36 columns]"
      ]
     },
     "execution_count": 222,
     "metadata": {},
     "output_type": "execute_result"
    }
   ],
   "source": [
    "X = pd.concat([X_scaled, y.reset_index(drop=True)], axis=1)\n",
    "X"
   ]
  },
  {
   "cell_type": "code",
   "execution_count": 223,
   "metadata": {},
   "outputs": [],
   "source": [
    "df = X"
   ]
  },
  {
   "cell_type": "markdown",
   "metadata": {},
   "source": [
    "### MinMax Scaling"
   ]
  },
  {
   "cell_type": "markdown",
   "metadata": {},
   "source": [
    "Data will also be normalized from range 0-1."
   ]
  },
  {
   "cell_type": "code",
   "execution_count": 224,
   "metadata": {},
   "outputs": [],
   "source": [
    "X = df.drop('overall_rating', axis=1)"
   ]
  },
  {
   "cell_type": "code",
   "execution_count": 225,
   "metadata": {},
   "outputs": [],
   "source": [
    "scaler = MinMaxScaler()\n",
    "\n",
    "# Scale the numeric columns\n",
    "X_min_max = scaler.fit_transform(X)\n",
    "X_min_max = pd.DataFrame(X_min_max, columns=X.columns)"
   ]
  },
  {
   "cell_type": "code",
   "execution_count": 226,
   "metadata": {},
   "outputs": [
    {
     "data": {
      "text/html": [
       "<div>\n",
       "<style scoped>\n",
       "    .dataframe tbody tr th:only-of-type {\n",
       "        vertical-align: middle;\n",
       "    }\n",
       "\n",
       "    .dataframe tbody tr th {\n",
       "        vertical-align: top;\n",
       "    }\n",
       "\n",
       "    .dataframe thead th {\n",
       "        text-align: right;\n",
       "    }\n",
       "</style>\n",
       "<table border=\"1\" class=\"dataframe\">\n",
       "  <thead>\n",
       "    <tr style=\"text-align: right;\">\n",
       "      <th></th>\n",
       "      <th>preferred_foot</th>\n",
       "      <th>international_reputation(1-5)</th>\n",
       "      <th>weak_foot(1-5)</th>\n",
       "      <th>skill_moves(1-5)</th>\n",
       "      <th>body_type</th>\n",
       "      <th>reactions</th>\n",
       "      <th>penalties</th>\n",
       "      <th>continent</th>\n",
       "      <th>CAM</th>\n",
       "      <th>CB</th>\n",
       "      <th>...</th>\n",
       "      <th>quan_tran_sprint_speed</th>\n",
       "      <th>quan_tran_balance</th>\n",
       "      <th>quan_tran_jumping</th>\n",
       "      <th>quan_tran_stamina</th>\n",
       "      <th>quan_tran_strength</th>\n",
       "      <th>quan_tran_vision</th>\n",
       "      <th>quan_tran_composure</th>\n",
       "      <th>quan_tran_sliding_tackle</th>\n",
       "      <th>recip_wage</th>\n",
       "      <th>overall_rating</th>\n",
       "    </tr>\n",
       "  </thead>\n",
       "  <tbody>\n",
       "    <tr>\n",
       "      <th>0</th>\n",
       "      <td>1.0</td>\n",
       "      <td>0.50</td>\n",
       "      <td>1.00</td>\n",
       "      <td>0.75</td>\n",
       "      <td>0.0</td>\n",
       "      <td>0.927536</td>\n",
       "      <td>0.712644</td>\n",
       "      <td>0.4</td>\n",
       "      <td>1.0</td>\n",
       "      <td>0.0</td>\n",
       "      <td>...</td>\n",
       "      <td>0.608262</td>\n",
       "      <td>0.501568</td>\n",
       "      <td>0.657207</td>\n",
       "      <td>0.692739</td>\n",
       "      <td>0.686822</td>\n",
       "      <td>0.797190</td>\n",
       "      <td>0.776751</td>\n",
       "      <td>0.594979</td>\n",
       "      <td>0.002686</td>\n",
       "      <td>88</td>\n",
       "    </tr>\n",
       "    <tr>\n",
       "      <th>1</th>\n",
       "      <td>1.0</td>\n",
       "      <td>0.75</td>\n",
       "      <td>0.75</td>\n",
       "      <td>1.00</td>\n",
       "      <td>0.5</td>\n",
       "      <td>0.840580</td>\n",
       "      <td>0.885057</td>\n",
       "      <td>0.4</td>\n",
       "      <td>1.0</td>\n",
       "      <td>0.0</td>\n",
       "      <td>...</td>\n",
       "      <td>0.671768</td>\n",
       "      <td>0.769910</td>\n",
       "      <td>0.397244</td>\n",
       "      <td>0.576649</td>\n",
       "      <td>0.358486</td>\n",
       "      <td>0.785411</td>\n",
       "      <td>0.729485</td>\n",
       "      <td>0.426945</td>\n",
       "      <td>0.001728</td>\n",
       "      <td>88</td>\n",
       "    </tr>\n",
       "    <tr>\n",
       "      <th>2</th>\n",
       "      <td>1.0</td>\n",
       "      <td>0.50</td>\n",
       "      <td>0.75</td>\n",
       "      <td>0.75</td>\n",
       "      <td>0.5</td>\n",
       "      <td>0.855072</td>\n",
       "      <td>0.643678</td>\n",
       "      <td>0.4</td>\n",
       "      <td>0.0</td>\n",
       "      <td>0.0</td>\n",
       "      <td>...</td>\n",
       "      <td>0.566004</td>\n",
       "      <td>0.363294</td>\n",
       "      <td>0.636706</td>\n",
       "      <td>0.576649</td>\n",
       "      <td>0.816410</td>\n",
       "      <td>0.463555</td>\n",
       "      <td>0.696478</td>\n",
       "      <td>0.805269</td>\n",
       "      <td>0.003871</td>\n",
       "      <td>88</td>\n",
       "    </tr>\n",
       "    <tr>\n",
       "      <th>3</th>\n",
       "      <td>1.0</td>\n",
       "      <td>0.50</td>\n",
       "      <td>0.50</td>\n",
       "      <td>0.25</td>\n",
       "      <td>0.5</td>\n",
       "      <td>0.840580</td>\n",
       "      <td>0.321839</td>\n",
       "      <td>0.0</td>\n",
       "      <td>0.0</td>\n",
       "      <td>1.0</td>\n",
       "      <td>...</td>\n",
       "      <td>0.587230</td>\n",
       "      <td>0.403237</td>\n",
       "      <td>0.700541</td>\n",
       "      <td>0.576649</td>\n",
       "      <td>0.759313</td>\n",
       "      <td>0.536445</td>\n",
       "      <td>0.776751</td>\n",
       "      <td>0.764212</td>\n",
       "      <td>0.005221</td>\n",
       "      <td>88</td>\n",
       "    </tr>\n",
       "    <tr>\n",
       "      <th>4</th>\n",
       "      <td>1.0</td>\n",
       "      <td>0.50</td>\n",
       "      <td>0.50</td>\n",
       "      <td>0.25</td>\n",
       "      <td>0.5</td>\n",
       "      <td>0.913043</td>\n",
       "      <td>0.655172</td>\n",
       "      <td>0.4</td>\n",
       "      <td>0.0</td>\n",
       "      <td>1.0</td>\n",
       "      <td>...</td>\n",
       "      <td>1.000000</td>\n",
       "      <td>0.643687</td>\n",
       "      <td>0.585964</td>\n",
       "      <td>0.648666</td>\n",
       "      <td>0.539051</td>\n",
       "      <td>0.736271</td>\n",
       "      <td>0.764212</td>\n",
       "      <td>0.457517</td>\n",
       "      <td>0.002459</td>\n",
       "      <td>88</td>\n",
       "    </tr>\n",
       "    <tr>\n",
       "      <th>...</th>\n",
       "      <td>...</td>\n",
       "      <td>...</td>\n",
       "      <td>...</td>\n",
       "      <td>...</td>\n",
       "      <td>...</td>\n",
       "      <td>...</td>\n",
       "      <td>...</td>\n",
       "      <td>...</td>\n",
       "      <td>...</td>\n",
       "      <td>...</td>\n",
       "      <td>...</td>\n",
       "      <td>...</td>\n",
       "      <td>...</td>\n",
       "      <td>...</td>\n",
       "      <td>...</td>\n",
       "      <td>...</td>\n",
       "      <td>...</td>\n",
       "      <td>...</td>\n",
       "      <td>...</td>\n",
       "      <td>...</td>\n",
       "      <td>...</td>\n",
       "    </tr>\n",
       "    <tr>\n",
       "      <th>17680</th>\n",
       "      <td>1.0</td>\n",
       "      <td>0.75</td>\n",
       "      <td>0.75</td>\n",
       "      <td>0.75</td>\n",
       "      <td>0.5</td>\n",
       "      <td>0.956522</td>\n",
       "      <td>0.931034</td>\n",
       "      <td>0.4</td>\n",
       "      <td>0.0</td>\n",
       "      <td>0.0</td>\n",
       "      <td>...</td>\n",
       "      <td>0.438209</td>\n",
       "      <td>0.466904</td>\n",
       "      <td>0.685255</td>\n",
       "      <td>0.489725</td>\n",
       "      <td>0.547191</td>\n",
       "      <td>0.487660</td>\n",
       "      <td>0.539313</td>\n",
       "      <td>0.603830</td>\n",
       "      <td>0.000745</td>\n",
       "      <td>91</td>\n",
       "    </tr>\n",
       "    <tr>\n",
       "      <th>17681</th>\n",
       "      <td>1.0</td>\n",
       "      <td>0.75</td>\n",
       "      <td>1.00</td>\n",
       "      <td>0.75</td>\n",
       "      <td>0.5</td>\n",
       "      <td>0.971014</td>\n",
       "      <td>0.850575</td>\n",
       "      <td>0.4</td>\n",
       "      <td>1.0</td>\n",
       "      <td>0.0</td>\n",
       "      <td>...</td>\n",
       "      <td>0.625130</td>\n",
       "      <td>0.697461</td>\n",
       "      <td>0.546240</td>\n",
       "      <td>0.489725</td>\n",
       "      <td>0.295005</td>\n",
       "      <td>0.635393</td>\n",
       "      <td>0.521781</td>\n",
       "      <td>0.395954</td>\n",
       "      <td>0.000620</td>\n",
       "      <td>91</td>\n",
       "    </tr>\n",
       "    <tr>\n",
       "      <th>17682</th>\n",
       "      <td>1.0</td>\n",
       "      <td>0.75</td>\n",
       "      <td>0.50</td>\n",
       "      <td>0.00</td>\n",
       "      <td>0.0</td>\n",
       "      <td>0.956522</td>\n",
       "      <td>0.402299</td>\n",
       "      <td>0.4</td>\n",
       "      <td>0.0</td>\n",
       "      <td>0.0</td>\n",
       "      <td>...</td>\n",
       "      <td>0.671768</td>\n",
       "      <td>0.635719</td>\n",
       "      <td>0.604046</td>\n",
       "      <td>0.576649</td>\n",
       "      <td>0.481057</td>\n",
       "      <td>0.565546</td>\n",
       "      <td>0.470972</td>\n",
       "      <td>0.402634</td>\n",
       "      <td>0.001652</td>\n",
       "      <td>91</td>\n",
       "    </tr>\n",
       "    <tr>\n",
       "      <th>17683</th>\n",
       "      <td>0.0</td>\n",
       "      <td>0.00</td>\n",
       "      <td>0.75</td>\n",
       "      <td>0.25</td>\n",
       "      <td>0.5</td>\n",
       "      <td>0.478261</td>\n",
       "      <td>0.517241</td>\n",
       "      <td>0.4</td>\n",
       "      <td>0.0</td>\n",
       "      <td>0.0</td>\n",
       "      <td>...</td>\n",
       "      <td>0.671768</td>\n",
       "      <td>0.557838</td>\n",
       "      <td>0.434758</td>\n",
       "      <td>0.443887</td>\n",
       "      <td>0.385117</td>\n",
       "      <td>0.481057</td>\n",
       "      <td>0.447426</td>\n",
       "      <td>0.395954</td>\n",
       "      <td>0.248348</td>\n",
       "      <td>67</td>\n",
       "    </tr>\n",
       "    <tr>\n",
       "      <th>17684</th>\n",
       "      <td>1.0</td>\n",
       "      <td>0.00</td>\n",
       "      <td>0.50</td>\n",
       "      <td>0.50</td>\n",
       "      <td>0.5</td>\n",
       "      <td>0.521739</td>\n",
       "      <td>0.574713</td>\n",
       "      <td>1.0</td>\n",
       "      <td>0.0</td>\n",
       "      <td>1.0</td>\n",
       "      <td>...</td>\n",
       "      <td>0.538266</td>\n",
       "      <td>0.454840</td>\n",
       "      <td>0.451854</td>\n",
       "      <td>0.439244</td>\n",
       "      <td>0.504586</td>\n",
       "      <td>0.463555</td>\n",
       "      <td>0.389200</td>\n",
       "      <td>0.421850</td>\n",
       "      <td>1.000000</td>\n",
       "      <td>67</td>\n",
       "    </tr>\n",
       "  </tbody>\n",
       "</table>\n",
       "<p>17685 rows × 36 columns</p>\n",
       "</div>"
      ],
      "text/plain": [
       "       preferred_foot  international_reputation(1-5)  weak_foot(1-5)  \\\n",
       "0                 1.0                           0.50            1.00   \n",
       "1                 1.0                           0.75            0.75   \n",
       "2                 1.0                           0.50            0.75   \n",
       "3                 1.0                           0.50            0.50   \n",
       "4                 1.0                           0.50            0.50   \n",
       "...               ...                            ...             ...   \n",
       "17680             1.0                           0.75            0.75   \n",
       "17681             1.0                           0.75            1.00   \n",
       "17682             1.0                           0.75            0.50   \n",
       "17683             0.0                           0.00            0.75   \n",
       "17684             1.0                           0.00            0.50   \n",
       "\n",
       "       skill_moves(1-5)  body_type  reactions  penalties  continent  CAM   CB  \\\n",
       "0                  0.75        0.0   0.927536   0.712644        0.4  1.0  0.0   \n",
       "1                  1.00        0.5   0.840580   0.885057        0.4  1.0  0.0   \n",
       "2                  0.75        0.5   0.855072   0.643678        0.4  0.0  0.0   \n",
       "3                  0.25        0.5   0.840580   0.321839        0.0  0.0  1.0   \n",
       "4                  0.25        0.5   0.913043   0.655172        0.4  0.0  1.0   \n",
       "...                 ...        ...        ...        ...        ...  ...  ...   \n",
       "17680              0.75        0.5   0.956522   0.931034        0.4  0.0  0.0   \n",
       "17681              0.75        0.5   0.971014   0.850575        0.4  1.0  0.0   \n",
       "17682              0.00        0.0   0.956522   0.402299        0.4  0.0  0.0   \n",
       "17683              0.25        0.5   0.478261   0.517241        0.4  0.0  0.0   \n",
       "17684              0.50        0.5   0.521739   0.574713        1.0  0.0  1.0   \n",
       "\n",
       "       ...  quan_tran_sprint_speed  quan_tran_balance  quan_tran_jumping  \\\n",
       "0      ...                0.608262           0.501568           0.657207   \n",
       "1      ...                0.671768           0.769910           0.397244   \n",
       "2      ...                0.566004           0.363294           0.636706   \n",
       "3      ...                0.587230           0.403237           0.700541   \n",
       "4      ...                1.000000           0.643687           0.585964   \n",
       "...    ...                     ...                ...                ...   \n",
       "17680  ...                0.438209           0.466904           0.685255   \n",
       "17681  ...                0.625130           0.697461           0.546240   \n",
       "17682  ...                0.671768           0.635719           0.604046   \n",
       "17683  ...                0.671768           0.557838           0.434758   \n",
       "17684  ...                0.538266           0.454840           0.451854   \n",
       "\n",
       "       quan_tran_stamina  quan_tran_strength  quan_tran_vision  \\\n",
       "0               0.692739            0.686822          0.797190   \n",
       "1               0.576649            0.358486          0.785411   \n",
       "2               0.576649            0.816410          0.463555   \n",
       "3               0.576649            0.759313          0.536445   \n",
       "4               0.648666            0.539051          0.736271   \n",
       "...                  ...                 ...               ...   \n",
       "17680           0.489725            0.547191          0.487660   \n",
       "17681           0.489725            0.295005          0.635393   \n",
       "17682           0.576649            0.481057          0.565546   \n",
       "17683           0.443887            0.385117          0.481057   \n",
       "17684           0.439244            0.504586          0.463555   \n",
       "\n",
       "       quan_tran_composure  quan_tran_sliding_tackle  recip_wage  \\\n",
       "0                 0.776751                  0.594979    0.002686   \n",
       "1                 0.729485                  0.426945    0.001728   \n",
       "2                 0.696478                  0.805269    0.003871   \n",
       "3                 0.776751                  0.764212    0.005221   \n",
       "4                 0.764212                  0.457517    0.002459   \n",
       "...                    ...                       ...         ...   \n",
       "17680             0.539313                  0.603830    0.000745   \n",
       "17681             0.521781                  0.395954    0.000620   \n",
       "17682             0.470972                  0.402634    0.001652   \n",
       "17683             0.447426                  0.395954    0.248348   \n",
       "17684             0.389200                  0.421850    1.000000   \n",
       "\n",
       "       overall_rating  \n",
       "0                  88  \n",
       "1                  88  \n",
       "2                  88  \n",
       "3                  88  \n",
       "4                  88  \n",
       "...               ...  \n",
       "17680              91  \n",
       "17681              91  \n",
       "17682              91  \n",
       "17683              67  \n",
       "17684              67  \n",
       "\n",
       "[17685 rows x 36 columns]"
      ]
     },
     "execution_count": 226,
     "metadata": {},
     "output_type": "execute_result"
    }
   ],
   "source": [
    "X = pd.concat([X_min_max, y.reset_index(drop=True)], axis=1)\n",
    "X"
   ]
  },
  {
   "cell_type": "code",
   "execution_count": 227,
   "metadata": {},
   "outputs": [],
   "source": [
    "df = X"
   ]
  },
  {
   "cell_type": "code",
   "execution_count": 228,
   "metadata": {},
   "outputs": [
    {
     "name": "stdout",
     "output_type": "stream",
     "text": [
      "0\n"
     ]
    }
   ],
   "source": [
    "print(df.duplicated().sum())"
   ]
  },
  {
   "cell_type": "markdown",
   "metadata": {},
   "source": [
    "### Correlations within our X values in the dataset"
   ]
  },
  {
   "cell_type": "markdown",
   "metadata": {},
   "source": [
    "Before creating models, overall correlation within the dataset will be checked. Correlations above the threshold will be checked."
   ]
  },
  {
   "cell_type": "code",
   "execution_count": 235,
   "metadata": {},
   "outputs": [
    {
     "name": "stdout",
     "output_type": "stream",
     "text": [
      "             Feature 1            Feature 2  Correlation\n",
      "0            reactions       overall_rating     0.856518\n",
      "1  quan_tran_composure       overall_rating     0.743203\n",
      "2           recip_wage       overall_rating    -0.712133\n",
      "3       overall_rating            reactions     0.856518\n",
      "4       overall_rating  quan_tran_composure     0.743203\n",
      "5       overall_rating           recip_wage    -0.712133\n"
     ]
    }
   ],
   "source": [
    "correlation_matrix = df.corr()\n",
    "\n",
    "threshold = 0.7\n",
    "strong_correlations = correlation_matrix[(correlation_matrix.abs() > threshold) & (correlation_matrix != 1)]\n",
    "\n",
    "strong_pairs = strong_correlations.stack().reset_index()\n",
    "strong_pairs.columns = ['Feature 1', 'Feature 2', 'Correlation']\n",
    "print(strong_pairs)"
   ]
  },
  {
   "cell_type": "markdown",
   "metadata": {},
   "source": [
    "As all the correlations above the threshold are correlated with the y `overall_rating`, these features will not be dropped."
   ]
  },
  {
   "cell_type": "code",
   "execution_count": 236,
   "metadata": {},
   "outputs": [
    {
     "data": {
      "image/png": "[encoded data removed]",
      "text/plain": [
       "<Figure size 1000x800 with 2 Axes>"
      ]
     },
     "metadata": {},
     "output_type": "display_data"
    }
   ],
   "source": [
    "plt.figure(figsize =(10,8))\n",
    "plot = sns.heatmap(correlation_matrix, fmt=\".3f\")"
   ]
  },
  {
   "cell_type": "markdown",
   "metadata": {},
   "source": [
    "As the features in the dataset have correlations with other features below the threshold, training the model will now be possible."
   ]
  },
  {
   "cell_type": "markdown",
   "metadata": {},
   "source": [
    "# Section 6. Initial model training"
   ]
  },
  {
   "cell_type": "markdown",
   "metadata": {},
   "source": [
    "## K-Nearest Neighbors Model"
   ]
  },
  {
   "cell_type": "markdown",
   "metadata": {},
   "source": [
    "TODO: *Insert reason why we use this model here*"
   ]
  },
  {
   "cell_type": "markdown",
   "metadata": {},
   "source": [
    "Importing relevant libraries"
   ]
  },
  {
   "cell_type": "code",
   "execution_count": null,
   "metadata": {},
   "outputs": [],
   "source": [
    "from sklearn.preprocessing import StandardScaler, MinMaxScaler\n",
    "from sklearn.neighbors import KNeighborsClassifier\n",
    "from sklearn.model_selection import train_test_split"
   ]
  },
  {
   "cell_type": "markdown",
   "metadata": {},
   "source": [
    "Creating the train and test datasets using train_test_split. We set test_size to 0.3 as it is a pretty standard test size. We stratify based on y to ensure that the data is split evently between the classes. Shuffle is to help randomize the data for possibly better fitting. Random state set for reproducability."
   ]
  },
  {
   "cell_type": "code",
   "execution_count": null,
   "metadata": {},
   "outputs": [],
   "source": [
    "X_knn = normalized_df\n",
    "y_knn = normalized_df.values[:, -2]"
   ]
  },
  {
   "cell_type": "markdown",
   "metadata": {},
   "source": [
    "Standardize features using MinMaxScaler"
   ]
  },
  {
   "cell_type": "code",
   "execution_count": null,
   "metadata": {},
   "outputs": [],
   "source": [
    "X_knn = MinMaxScaler().fit_transform(X_knn)"
   ]
  },
  {
   "cell_type": "code",
   "execution_count": null,
   "metadata": {},
   "outputs": [],
   "source": [
    "X_train, X_test, y_train, y_test = train_test_split(X_knn, y_knn, test_size=0.3, stratify=y_knn, random_state=42)"
   ]
  },
  {
   "cell_type": "code",
   "execution_count": null,
   "metadata": {},
   "outputs": [],
   "source": [
    "# from imblearn.over_sampling import RandomOverSampler\n",
    "# ros = RandomOverSampler(random_state=42)\n",
    "# X_train, y_train = ros.fit_resample(X_train, y_train)\n",
    "\n",
    "# from imblearn.under_sampling import RandomUnderSampler\n",
    "# rus = RandomUnderSampler(random_state=42)\n",
    "# X_train, y_train = rus.fit_resample(X_train, y_train)\n",
    "\n",
    "# from imblearn.combine import SMOTETomek\n",
    "# smt = SMOTETomek(random_state=42)\n",
    "# X_train, y_train = smt.fit_resample(X_train, y_train)\n",
    "\n",
    "print(X_train[0])"
   ]
  },
  {
   "cell_type": "markdown",
   "metadata": {},
   "source": [
    "See train and test split shape"
   ]
  },
  {
   "cell_type": "code",
   "execution_count": null,
   "metadata": {},
   "outputs": [],
   "source": [
    "print(\"X_train shape: \", X_train.shape)\n",
    "print(\"X_test shape: \", X_test.shape)"
   ]
  },
  {
   "cell_type": "markdown",
   "metadata": {},
   "source": [
    "Setup KNN Classifier and start fitting to the training data. For now, we will choose as arbitrary K value and distance metric that doesn't perform too badly"
   ]
  },
  {
   "cell_type": "code",
   "execution_count": null,
   "metadata": {},
   "outputs": [],
   "source": [
    "knn = KNeighborsClassifier(n_neighbors=20, metric=\"euclidean\", weights=\"uniform\")\n",
    "knn.fit(X_train, y_train)"
   ]
  },
  {
   "cell_type": "markdown",
   "metadata": {},
   "source": [
    "Test model on training data "
   ]
  },
  {
   "cell_type": "code",
   "execution_count": null,
   "metadata": {},
   "outputs": [],
   "source": [
    "y_pred_train = knn.predict(X_train)\n",
    "knn.score(X_train, y_train)"
   ]
  },
  {
   "cell_type": "markdown",
   "metadata": {},
   "source": [
    "We got a \"decent\" accuracy on training data, let's check testing accuracy"
   ]
  },
  {
   "cell_type": "markdown",
   "metadata": {},
   "source": [
    "Now, we test on the test data"
   ]
  },
  {
   "cell_type": "code",
   "execution_count": null,
   "metadata": {},
   "outputs": [],
   "source": [
    "y_pred_test = knn.predict(X_test)\n",
    "knn.score(X_test, y_test)"
   ]
  },
  {
   "cell_type": "markdown",
   "metadata": {},
   "source": [
    "We got a similar accuracy on testing data, this means no overfitting or underfitting is occuring. Unfortunately, the accuracies aren't high in general, meaning the model isn't too useful."
   ]
  },
  {
   "cell_type": "markdown",
   "metadata": {},
   "source": [
    "Confusion matrix of results"
   ]
  },
  {
   "cell_type": "code",
   "execution_count": null,
   "metadata": {},
   "outputs": [],
   "source": [
    "from sklearn.metrics import confusion_matrix, ConfusionMatrixDisplay, classification_report"
   ]
  },
  {
   "cell_type": "code",
   "execution_count": null,
   "metadata": {},
   "outputs": [],
   "source": [
    "cm = confusion_matrix(y_train, y_pred_train, labels=knn.classes_)\n",
    "cmd = ConfusionMatrixDisplay(confusion_matrix=cm, display_labels=knn.classes_)\n",
    "cmd.plot()"
   ]
  },
  {
   "cell_type": "code",
   "execution_count": null,
   "metadata": {},
   "outputs": [],
   "source": [
    "cm = confusion_matrix(y_test, y_pred_test, labels=knn.classes_)\n",
    "cmd = ConfusionMatrixDisplay(confusion_matrix=cm, display_labels=knn.classes_)\n",
    "cmd.plot()"
   ]
  },
  {
   "cell_type": "code",
   "execution_count": null,
   "metadata": {},
   "outputs": [],
   "source": [
    "print(classification_report(y_train, y_pred_train))"
   ]
  },
  {
   "cell_type": "code",
   "execution_count": null,
   "metadata": {},
   "outputs": [
    {
     "ename": "NameError",
     "evalue": "name 'classification_report' is not defined",
     "output_type": "error",
     "traceback": [
      "\u001b[1;31m---------------------------------------------------------------------------\u001b[0m",
      "\u001b[1;31mNameError\u001b[0m                                 Traceback (most recent call last)",
      "Cell \u001b[1;32mIn[163], line 1\u001b[0m\n\u001b[1;32m----> 1\u001b[0m \u001b[38;5;28mprint\u001b[39m(\u001b[43mclassification_report\u001b[49m(y_test, y_pred_test))\n",
      "\u001b[1;31mNameError\u001b[0m: name 'classification_report' is not defined"
     ]
    }
   ],
   "source": [
    "print(classification_report(y_test, y_pred_test))"
   ]
  },
  {
   "cell_type": "markdown",
   "metadata": {},
   "source": [
    "## Testing different hyperparameters"
   ]
  },
  {
   "cell_type": "code",
   "execution_count": null,
   "metadata": {},
   "outputs": [],
   "source": [
    "from sklearn.neighbors import KNeighborsClassifier\n",
    "from sklearn.model_selection import train_test_split, cross_val_score\n",
    "import numpy as np"
   ]
  },
  {
   "cell_type": "code",
   "execution_count": null,
   "metadata": {},
   "outputs": [],
   "source": [
    "neighbor_values = [1, 5, 10, 20, 40, 50, 60, 70, 80, 100, 200, 500, 1000]\n",
    "\n",
    "best_n = None\n",
    "best_cv_score = 0\n",
    "best_t_score = 0\n",
    "t_scores = []\n",
    "cv_scores = []\n",
    "\n",
    "print(\"Tuning hyperparameters with cross-validation...\")\n",
    "for n_neighbors in neighbor_values:\n",
    "    knn = KNeighborsClassifier(n_neighbors=n_neighbors, metric=\"euclidean\", weights=\"distance\")\n",
    "    \n",
    "    cv_score = np.mean(cross_val_score(knn, X_train, y_train, cv=5, scoring=\"accuracy\"))\n",
    "    t_score = np.mean(cross_val_score(knn, X_test, y_test, cv=5, scoring=\"accuracy\"))\n",
    "\n",
    "    cv_scores.append(cv_score)\n",
    "    t_scores.append(t_score)\n",
    "    \n",
    "    if cv_score > best_cv_score:\n",
    "        best_cv_score = cv_score\n",
    "        best_n = n_neighbors\n",
    "\n",
    "    if t_score > best_t_score:\n",
    "        best_t_score = t_score\n",
    "\n",
    "    print(f\"n_neighbors={n_neighbors}, CV Accuracy={cv_score:.4f}, T Accuracy = {t_score:.4f}\")\n",
    "\n",
    "print(f\"\\nBest number of neighbors: {best_n} with CV Accuracy: {best_cv_score:.4f}\")\n",
    "final_knn = KNeighborsClassifier(n_neighbors=best_n, metric=\"euclidean\", weights=\"distance\")\n",
    "final_knn.fit(X_train, y_train)\n",
    "\n",
    "test_score = final_knn.score(X_test, y_test)\n",
    "print(f\"Test Accuracy: {test_score:.4f}\")"
   ]
  },
  {
   "cell_type": "code",
   "execution_count": null,
   "metadata": {},
   "outputs": [],
   "source": [
    "plt.plot(neighbor_values, cv_scores, marker='o')\n",
    "plt.xlabel(\"Number of Neighbors (n_neighbors)\")\n",
    "plt.ylabel(\"Cross-Validation Accuracy\")\n",
    "plt.title(\"Hyperparameter Tuning Results\")\n",
    "plt.xscale(\"log\")\n",
    "plt.grid(True)\n",
    "plt.show()"
   ]
  },
  {
   "cell_type": "code",
   "execution_count": null,
   "metadata": {},
   "outputs": [],
   "source": [
    "neighbor_values = [1, 5, 10, 20,40, 50, 60, 70, 80, 100, 200, 500, 1000]\n",
    "\n",
    "best_n = None\n",
    "best_cv_score = 0\n",
    "best_t_score = 0\n",
    "t_scores = []\n",
    "cv_scores = []\n",
    "\n",
    "print(\"Tuning hyperparameters with cross-validation...\")\n",
    "for n_neighbors in neighbor_values:\n",
    "    knn = KNeighborsClassifier(n_neighbors=n_neighbors, metric=\"euclidean\", weights=\"uniform\")\n",
    "    \n",
    "    cv_score = np.mean(cross_val_score(knn, X_train, y_train, cv=5, scoring=\"accuracy\"))\n",
    "    t_score = np.mean(cross_val_score(knn, X_test, y_test, cv=5, scoring=\"accuracy\"))\n",
    "\n",
    "    cv_scores.append(cv_score)\n",
    "    t_scores.append(t_score)\n",
    "    \n",
    "    if cv_score > best_cv_score:\n",
    "        best_cv_score = cv_score\n",
    "        best_n = n_neighbors\n",
    "\n",
    "    if t_score > best_t_score:\n",
    "        best_t_score = t_score\n",
    "\n",
    "    print(f\"n_neighbors={n_neighbors}, CV Accuracy={cv_score:.4f}, T Accuracy = {t_score:.4f}\")\n",
    "\n",
    "print(f\"\\nBest number of neighbors: {best_n} with CV Accuracy: {best_cv_score:.4f}\")\n",
    "final_knn = KNeighborsClassifier(n_neighbors=best_n, metric=\"euclidean\", weights=\"uniform\")\n",
    "final_knn.fit(X_train, y_train)\n",
    "\n",
    "test_score = final_knn.score(X_test, y_test)\n",
    "print(f\"Test Accuracy: {test_score:.4f}\")\n"
   ]
  },
  {
   "cell_type": "code",
   "execution_count": null,
   "metadata": {},
   "outputs": [],
   "source": [
    "plt.plot(neighbor_values, cv_scores, marker='o')\n",
    "plt.xlabel(\"Number of Neighbors (n_neighbors)\")\n",
    "plt.ylabel(\"Cross-Validation Accuracy\")\n",
    "plt.title(\"Hyperparameter Tuning Results\")\n",
    "plt.xscale(\"log\")\n",
    "plt.grid(True)\n",
    "plt.show()"
   ]
  },
  {
   "cell_type": "markdown",
   "metadata": {},
   "source": [
    "## Decision Tree "
   ]
  },
  {
   "cell_type": "code",
   "execution_count": null,
   "metadata": {},
   "outputs": [],
   "source": [
    "from sklearn.tree import DecisionTreeClassifier\n",
    "from sklearn.model_selection import RandomizedSearchCV"
   ]
  },
  {
   "cell_type": "code",
   "execution_count": null,
   "metadata": {},
   "outputs": [],
   "source": [
    "X_dt = box_df_clean.drop(\"Class\",axis=1)\n",
    "y_dt = box_df_clean[\"Class\"]"
   ]
  },
  {
   "cell_type": "code",
   "execution_count": null,
   "metadata": {},
   "outputs": [],
   "source": [
    "X_train, X_test, y_train, y_test = train_test_split(X_dt, y_dt, test_size=0.3, random_state=42)"
   ]
  },
  {
   "cell_type": "code",
   "execution_count": null,
   "metadata": {},
   "outputs": [],
   "source": [
    "unique, counts = np.unique(y_train, return_counts=True)\n",
    "print(\"Training data label counts:\")\n",
    "print(np.array([unique, counts]))"
   ]
  },
  {
   "cell_type": "code",
   "execution_count": null,
   "metadata": {},
   "outputs": [],
   "source": [
    "unique, counts = np.unique(y_test, return_counts=True)\n",
    "print(\"Test data label counts:\")\n",
    "print(np.array([unique, counts]))"
   ]
  },
  {
   "cell_type": "code",
   "execution_count": null,
   "metadata": {},
   "outputs": [],
   "source": [
    "dtc = DecisionTreeClassifier()"
   ]
  },
  {
   "cell_type": "code",
   "execution_count": null,
   "metadata": {},
   "outputs": [],
   "source": [
    "hyperparameters = [\n",
    "   {\n",
    "      'criterion': ['gini', 'entropy'],           \n",
    "      'max_depth': [5, 10, 20, 30],               \n",
    "      'min_samples_split': [2, 4, 6, 10, 15, 20, 30, 50],  \n",
    "      'max_leaf_nodes': [3, 5, 10, 20, 50, 100, 200, 500]\n",
    "   }\n",
    "]"
   ]
  },
  {
   "cell_type": "code",
   "execution_count": null,
   "metadata": {},
   "outputs": [],
   "source": [
    "rsc_df = RandomizedSearchCV(estimator=dtc, \n",
    "                         param_distributions=hyperparameters,\n",
    "                         n_iter=50,\n",
    "                         cv=5,\n",
    "                         random_state=42)"
   ]
  },
  {
   "cell_type": "code",
   "execution_count": null,
   "metadata": {},
   "outputs": [],
   "source": [
    "rsc_df.best_params_"
   ]
  },
  {
   "cell_type": "code",
   "execution_count": null,
   "metadata": {},
   "outputs": [],
   "source": [
    "pd.set_option('display.max_colwidth', None)\n",
    "\n",
    "rsc_results = pd.DataFrame(rsc_df.cv_results_)\n",
    "rsc_results"
   ]
  },
  {
   "cell_type": "code",
   "execution_count": null,
   "metadata": {},
   "outputs": [],
   "source": [
    "best_index = rsc_df.best_index_\n",
    "best_index"
   ]
  },
  {
   "cell_type": "code",
   "execution_count": null,
   "metadata": {},
   "outputs": [],
   "source": [
    "rsc_results.loc[best_index]"
   ]
  },
  {
   "cell_type": "code",
   "execution_count": null,
   "metadata": {},
   "outputs": [],
   "source": [
    "best_acc = rsc_df.best_score_\n",
    "best_acc"
   ]
  },
  {
   "cell_type": "code",
   "execution_count": null,
   "metadata": {},
   "outputs": [],
   "source": [
    "predictions = dtc.predict(X_train)"
   ]
  },
  {
   "cell_type": "code",
   "execution_count": null,
   "metadata": {},
   "outputs": [],
   "source": [
    "def compute_accuracy(predictions, actual):\n",
    "   return sum(predictions == actual) / len(actual) * 100"
   ]
  },
  {
   "cell_type": "code",
   "execution_count": null,
   "metadata": {},
   "outputs": [],
   "source": [
    "print(\"Training accuracy: \", compute_accuracy(predictions, y_train),\"%\")"
   ]
  },
  {
   "cell_type": "code",
   "execution_count": null,
   "metadata": {},
   "outputs": [],
   "source": [
    "predictions = dtc.predict(X_test)"
   ]
  },
  {
   "cell_type": "code",
   "execution_count": null,
   "metadata": {},
   "outputs": [],
   "source": [
    "print(\"Testing accuracy: \", compute_accuracy(predictions, y_test),\"%\")"
   ]
  },
  {
   "cell_type": "code",
   "execution_count": null,
   "metadata": {},
   "outputs": [],
   "source": [
    "cm = confusion_matrix(y_test, predictions)\n",
    "cmd = ConfusionMatrixDisplay(confusion_matrix=cm)\n",
    "cmd.plot()"
   ]
  },
  {
   "cell_type": "code",
   "execution_count": null,
   "metadata": {},
   "outputs": [],
   "source": [
    "def describe_tree(clf):\n",
    "    n_nodes = clf.tree_.node_count\n",
    "    children_left = clf.tree_.children_left\n",
    "    children_right = clf.tree_.children_right\n",
    "    feature = clf.tree_.feature\n",
    "    threshold = clf.tree_.threshold\n",
    "    values = clf.tree_.value\n",
    "\n",
    "    node_depth = np.zeros(shape=n_nodes, dtype=np.int64)\n",
    "    is_leaves = np.zeros(shape=n_nodes, dtype=bool)\n",
    "    stack = [(0, 0)]  # start with the root node id (0) and its depth (0)\n",
    "    while len(stack) > 0:\n",
    "        # `pop` ensures each node is only visited once\n",
    "        node_id, depth = stack.pop()\n",
    "        node_depth[node_id] = depth\n",
    "\n",
    "        # If the left and right child of a node is not the same we have a split\n",
    "        # node\n",
    "        is_split_node = children_left[node_id] != children_right[node_id]\n",
    "        # If a split node, append left and right children and depth to `stack`\n",
    "        # so we can loop through them\n",
    "        if is_split_node:\n",
    "            stack.append((children_left[node_id], depth + 1))\n",
    "            stack.append((children_right[node_id], depth + 1))\n",
    "        else:\n",
    "            is_leaves[node_id] = True\n",
    "\n",
    "    print(\n",
    "        \"The binary tree structure has {n} nodes and has \"\n",
    "        \"the following tree structure:\\n\".format(n=n_nodes)\n",
    "    )\n",
    "    for i in range(n_nodes):\n",
    "        if is_leaves[i]:\n",
    "            print(\n",
    "                \"{space}node={node} is a leaf node, values: {values}.\".format(\n",
    "                    space=node_depth[i] * \"\\t\", node=i, values=values[i]\n",
    "                )\n",
    "            )\n",
    "        else:\n",
    "            print(\n",
    "                \"{space}node={node} is a split node: \"\n",
    "                \"go to node {left} if X[:, {feature}] <= {threshold} \"\n",
    "                \"else to node {right}.\".format(\n",
    "                    space=node_depth[i] * \"\\t\",\n",
    "                    node=i,\n",
    "                    left=children_left[i],\n",
    "                    feature=feature[i],\n",
    "                    threshold=threshold[i],\n",
    "                    right=children_right[i],\n",
    "                )\n",
    "            )"
   ]
  },
  {
   "cell_type": "code",
   "execution_count": null,
   "metadata": {},
   "outputs": [],
   "source": [
    "describe_tree(dtc)"
   ]
  },
  {
   "cell_type": "markdown",
   "metadata": {},
   "source": [
    "# Linear Regression"
   ]
  },
  {
   "cell_type": "code",
   "execution_count": null,
   "metadata": {},
   "outputs": [],
   "source": [
    "from sklearn.model_selection import train_test_split\n",
    "from sklearn.linear_model import LinearRegression\n",
    "from sklearn.metrics import mean_squared_error"
   ]
  },
  {
   "cell_type": "markdown",
   "metadata": {},
   "source": [
    "### Testing the model with respect to the `corr_df` df"
   ]
  },
  {
   "cell_type": "code",
   "execution_count": null,
   "metadata": {},
   "outputs": [],
   "source": [
    "corr_df"
   ]
  },
  {
   "cell_type": "code",
   "execution_count": null,
   "metadata": {},
   "outputs": [],
   "source": [
    "X = corr_df.drop([\"overall_rating\"],axis=1)\n",
    "y = corr_df[\"overall_rating\"]"
   ]
  },
  {
   "cell_type": "code",
   "execution_count": null,
   "metadata": {},
   "outputs": [],
   "source": [
    "X"
   ]
  },
  {
   "cell_type": "code",
   "execution_count": null,
   "metadata": {},
   "outputs": [],
   "source": [
    "y"
   ]
  },
  {
   "cell_type": "code",
   "execution_count": null,
   "metadata": {},
   "outputs": [],
   "source": [
    "X_train, X_test, y_train, y_test = train_test_split(X, y, test_size=0.2, random_state=42)"
   ]
  },
  {
   "cell_type": "code",
   "execution_count": null,
   "metadata": {},
   "outputs": [],
   "source": [
    "lin_reg = LinearRegression()"
   ]
  },
  {
   "cell_type": "code",
   "execution_count": null,
   "metadata": {},
   "outputs": [],
   "source": [
    "lin_reg.fit(X_train, y_train)"
   ]
  },
  {
   "cell_type": "code",
   "execution_count": null,
   "metadata": {},
   "outputs": [],
   "source": [
    "y_pred_train = lin_reg.predict(X_train)"
   ]
  },
  {
   "cell_type": "code",
   "execution_count": null,
   "metadata": {},
   "outputs": [],
   "source": [
    "mse = mean_squared_error(y_train, y_pred_train)\n",
    "print(f'Mean Squared Error: {mse}')"
   ]
  },
  {
   "cell_type": "code",
   "execution_count": null,
   "metadata": {},
   "outputs": [],
   "source": [
    "y_pred_test = lin_reg.predict(X_test)"
   ]
  },
  {
   "cell_type": "code",
   "execution_count": null,
   "metadata": {},
   "outputs": [],
   "source": [
    "mse = mean_squared_error(y_test, y_pred_test)\n",
    "print(f'Mean Squared Error: {mse}')\n"
   ]
  },
  {
   "cell_type": "code",
   "execution_count": null,
   "metadata": {},
   "outputs": [],
   "source": [
    "plt.scatter(y_test, y_pred_test, color='blue', alpha=0.6)\n",
    "plt.plot([y_test.min(), y_test.max()], [y_test.min(), y_test.max()], 'r--')  # Perfect prediction line\n",
    "plt.xlabel('Actual')\n",
    "plt.ylabel('Predicted')\n",
    "plt.title('Actual vs Predicted')\n",
    "plt.show()\n"
   ]
  },
  {
   "cell_type": "markdown",
   "metadata": {},
   "source": [
    "### Testing the model with respect to the `pca_df` df"
   ]
  },
  {
   "cell_type": "code",
   "execution_count": null,
   "metadata": {},
   "outputs": [],
   "source": [
    "pca_df"
   ]
  },
  {
   "cell_type": "code",
   "execution_count": null,
   "metadata": {},
   "outputs": [],
   "source": [
    "X = pca_df.drop([\"overall_rating\"],axis=1)\n",
    "y = pca_df[\"overall_rating\"]"
   ]
  },
  {
   "cell_type": "code",
   "execution_count": null,
   "metadata": {},
   "outputs": [],
   "source": [
    "X_train, X_test, y_train, y_test = train_test_split(X, y, test_size=0.2, random_state=42)"
   ]
  },
  {
   "cell_type": "code",
   "execution_count": null,
   "metadata": {},
   "outputs": [],
   "source": [
    "lin_reg = LinearRegression()"
   ]
  },
  {
   "cell_type": "code",
   "execution_count": null,
   "metadata": {},
   "outputs": [],
   "source": [
    "lin_reg.fit(X_train, y_train)"
   ]
  },
  {
   "cell_type": "code",
   "execution_count": null,
   "metadata": {},
   "outputs": [],
   "source": [
    "y_pred_train = lin_reg.predict(X_train)"
   ]
  },
  {
   "cell_type": "code",
   "execution_count": null,
   "metadata": {},
   "outputs": [],
   "source": [
    "mse = mean_squared_error(y_train, y_pred_train)\n",
    "print(f'Mean Squared Error: {mse}')"
   ]
  },
  {
   "cell_type": "code",
   "execution_count": null,
   "metadata": {},
   "outputs": [],
   "source": [
    "y_pred_test = lin_reg.predict(X_test)"
   ]
  },
  {
   "cell_type": "code",
   "execution_count": null,
   "metadata": {},
   "outputs": [],
   "source": [
    "mse = mean_squared_error(y_test, y_pred_test)\n",
    "print(f'Mean Squared Error: {mse}')\n"
   ]
  },
  {
   "cell_type": "code",
   "execution_count": null,
   "metadata": {},
   "outputs": [],
   "source": [
    "plt.scatter(y_test, y_pred_test, color='blue', alpha=0.6)\n",
    "plt.plot([y_test.min(), y_test.max()], [y_test.min(), y_test.max()], 'r--')  # Perfect prediction line\n",
    "plt.xlabel('Actual')\n",
    "plt.ylabel('Predicted')\n",
    "plt.title('Actual vs Predicted')\n",
    "plt.show()\n"
   ]
  },
  {
   "cell_type": "markdown",
   "metadata": {},
   "source": [
    "#### Improving the model"
   ]
  },
  {
   "cell_type": "markdown",
   "metadata": {},
   "source": [
    "Using regularization techniques to reduce impace from correlated features"
   ]
  },
  {
   "cell_type": "markdown",
   "metadata": {},
   "source": [
    "`ridge` regression"
   ]
  },
  {
   "cell_type": "code",
   "execution_count": null,
   "metadata": {},
   "outputs": [],
   "source": [
    "from sklearn.linear_model import Ridge\n",
    "from sklearn.metrics import r2_score\n",
    "\n",
    "# Assuming corr_df is your DataFrame\n",
    "X = corr_df.drop([\"overall_rating\"], axis=1)\n",
    "y = corr_df[\"overall_rating\"]\n",
    "\n",
    "# Split data\n",
    "X_train, X_test, y_train, y_test = train_test_split(X, y, test_size=0.2, random_state=42)\n",
    "\n",
    "# Initialize and fit the Ridge regression model\n",
    "ridge_reg = Ridge(alpha=1.0)  # Adjust alpha for regularization strength\n",
    "ridge_reg.fit(X_train, y_train)\n",
    "\n",
    "# Predict on the test set\n",
    "y_pred_train = ridge_reg.predict(X_train)\n",
    "y_pred = ridge_reg.predict(X_test)\n",
    "\n",
    "# Clip the predictions to stay within the range [0, 100]\n",
    "y_pred_train = np.clip(y_pred_train, 0, 100)\n",
    "y_pred = np.clip(y_pred, 0, 100)\n",
    "\n",
    "# Evaluate the model\n",
    "mse = mean_squared_error(y_test, y_pred)\n",
    "mse_train = mean_squared_error(y_train, y_pred_train)\n",
    "r2 = r2_score(y_test, y_pred)\n",
    "r2_train = r2_score(y_train, y_pred_train)\n",
    "\n",
    "# Print performance metrics\n",
    "print(f'Mean Squared Error (Training): {mse_train}')\n",
    "print(f'Mean Squared Error (Testing): {mse}')\n",
    "print(f'R² Score (Train): {r2_train}')\n",
    "print(f'R² Score (Testing): {r2}')\n",
    "\n",
    "# Visualize Actual vs Predicted for Testing\n",
    "plt.figure(figsize=(8, 6))\n",
    "plt.scatter(y_test, y_pred, color='blue', alpha=0.6)\n",
    "plt.plot([y_test.min(), y_test.max()], [y_test.min(), y_test.max()], 'r--')  # Perfect prediction line\n",
    "plt.xlabel('Actual')\n",
    "plt.ylabel('Predicted')\n",
    "plt.title('Actual vs Predicted (Ridge Regression TESTING)')\n",
    "plt.show()\n",
    "\n",
    "# Visualize Actual vs Predicted for Training\n",
    "plt.figure(figsize=(8, 6))\n",
    "plt.scatter(y_train, y_pred_train, color='blue', alpha=0.6)\n",
    "plt.plot([y_train.min(), y_train.max()], [y_pred_train.min(), y_pred_train.max()], 'r--')  # Perfect prediction line\n",
    "plt.xlabel('Actual')\n",
    "plt.ylabel('Predicted')\n",
    "plt.title('Actual vs Predicted (Ridge Regression TRAINING)')\n",
    "plt.show()\n"
   ]
  },
  {
   "cell_type": "markdown",
   "metadata": {},
   "source": [
    "`lasso` regression"
   ]
  },
  {
   "cell_type": "code",
   "execution_count": null,
   "metadata": {},
   "outputs": [],
   "source": [
    "from sklearn.linear_model import Lasso\n",
    "from sklearn.metrics import mean_squared_error, r2_score\n",
    "import matplotlib.pyplot as plt\n",
    "import numpy as np  # Import numpy for np.clip\n",
    "\n",
    "# Assuming corr_df is your DataFrame\n",
    "X = corr_df.drop([\"overall_rating\"], axis=1)\n",
    "y = corr_df[\"overall_rating\"]\n",
    "\n",
    "# Split data\n",
    "X_train, X_test, y_train, y_test = train_test_split(X, y, test_size=0.2, random_state=42)\n",
    "\n",
    "# Initialize and fit the Lasso regression model\n",
    "lasso_reg = Lasso(alpha=0.001)  # Adjust alpha for regularization strength\n",
    "lasso_reg.fit(X_train, y_train)\n",
    "\n",
    "# Predict on the test set\n",
    "y_pred_train = lasso_reg.predict(X_train)\n",
    "y_pred = lasso_reg.predict(X_test)\n",
    "\n",
    "# Clip the predictions to stay within the range [0, 100]\n",
    "y_pred_train = np.clip(y_pred_train, 0, 100)\n",
    "y_pred = np.clip(y_pred, 0, 100)\n",
    "\n",
    "# Evaluate the model\n",
    "mse = mean_squared_error(y_test, y_pred)\n",
    "mse_train = mean_squared_error(y_train, y_pred_train)\n",
    "r2 = r2_score(y_test, y_pred)\n",
    "r2_train = r2_score(y_train, y_pred_train)\n",
    "\n",
    "# Print performance metrics\n",
    "print(f'Mean Squared Error (Training): {mse_train}')\n",
    "print(f'Mean Squared Error (Testing): {mse}')\n",
    "print(f'R² Score (Train): {r2_train}')\n",
    "print(f'R² Score (Testing): {r2}')\n",
    "\n",
    "# Visualize Actual vs Predicted for Testing\n",
    "plt.figure(figsize=(8, 6))\n",
    "plt.scatter(y_test, y_pred, color='blue', alpha=0.6)\n",
    "plt.plot([y_test.min(), y_test.max()], [y_test.min(), y_test.max()], 'r--')  # Perfect prediction line\n",
    "plt.xlabel('Actual')\n",
    "plt.ylabel('Predicted')\n",
    "plt.title('Actual vs Predicted (Lasso Regression TESTING)')\n",
    "plt.show()\n",
    "\n",
    "# Visualize Actual vs Predicted for Training\n",
    "plt.figure(figsize=(8, 6))\n",
    "plt.scatter(y_train, y_pred_train, color='blue', alpha=0.6)\n",
    "plt.plot([y_train.min(), y_train.max()], [y_pred_train.min(), y_pred_train.max()], 'r--')  # Perfect prediction line\n",
    "plt.xlabel('Actual')\n",
    "plt.ylabel('Predicted')\n",
    "plt.title('Actual vs Predicted (Lasso Regression TRAINING)')\n",
    "plt.show()\n"
   ]
  },
  {
   "cell_type": "markdown",
   "metadata": {},
   "source": [
    "Using hyperparameter tuning to adjust the `alpha` of the regularization"
   ]
  },
  {
   "cell_type": "markdown",
   "metadata": {},
   "source": [
    "`ridge` regression"
   ]
  },
  {
   "cell_type": "code",
   "execution_count": null,
   "metadata": {},
   "outputs": [],
   "source": [
    "from sklearn.model_selection import GridSearchCV\n",
    "from sklearn.linear_model import Ridge\n",
    "\n",
    "# Define the Ridge model\n",
    "ridge = Ridge()\n",
    "\n",
    "# Define the parameter grid for alpha\n",
    "param_grid = {'alpha': [0.001, 0.01, 0.1, 1, 10, 100]}\n",
    "\n",
    "# Set up GridSearchCV\n",
    "grid_search = GridSearchCV(estimator=ridge, param_grid=param_grid, scoring='r2', cv=5, return_train_score=True)\n",
    "\n",
    "# Fit GridSearchCV\n",
    "grid_search.fit(X_train, y_train)\n",
    "\n",
    "# Get the best model and make predictions\n",
    "best_ridge_model = grid_search.best_estimator_\n",
    "\n",
    "# Clip the predictions after fitting\n",
    "y_pred_train = best_ridge_model.predict(X_train)\n",
    "y_pred_test = best_ridge_model.predict(X_test)\n",
    "\n",
    "# Clip the predictions to stay within the range [0, 100]\n",
    "y_pred_train = np.clip(y_pred_train, 0, 100)\n",
    "y_pred_test = np.clip(y_pred_test, 0, 100)\n",
    "\n",
    "# Evaluate the model\n",
    "mse_train = mean_squared_error(y_train, y_pred_train)\n",
    "mse_test = mean_squared_error(y_test, y_pred_test)\n",
    "r2_train = r2_score(y_train, y_pred_train)\n",
    "r2_test = r2_score(y_test, y_pred_test)\n",
    "\n",
    "# Print performance metrics\n",
    "print(f'Mean Squared Error (Training): {mse_train}')\n",
    "print(f'Mean Squared Error (Testing): {mse_test}')\n",
    "print(f'R² Score (Train): {r2_train}')\n",
    "print(f'R² Score (Testing): {r2_test}')\n",
    "\n",
    "# Extract results from GridSearchCV\n",
    "results = pd.DataFrame(grid_search.cv_results_)\n",
    "\n",
    "# Print the full grid search results\n",
    "print(\"Grid Search Results:\")\n",
    "print(results[['param_alpha', 'mean_test_score', 'mean_train_score']])\n",
    "\n",
    "# Extract values for plotting\n",
    "alphas = param_grid['alpha']\n",
    "mean_test_scores = results['mean_test_score']\n",
    "mean_train_scores = results['mean_train_score']\n",
    "\n",
    "# Plot alpha vs. R² score\n",
    "plt.figure(figsize=(8, 6))\n",
    "plt.plot(alphas, mean_test_scores, marker='o', linestyle='--', color='b', label='Mean Test Score')\n",
    "plt.plot(alphas, mean_train_scores, marker='s', linestyle='-', color='r', label='Mean Train Score')\n",
    "plt.xscale('log')  # Use log scale for alpha\n",
    "plt.xlabel('Alpha (Regularization Strength)')\n",
    "plt.ylabel('R² Score')\n",
    "plt.title('Effect of Alpha on R² Score (Ridge Regression)')\n",
    "plt.legend()\n",
    "plt.grid(True)\n",
    "plt.show()\n",
    "\n",
    "# Best alpha and score\n",
    "best_alpha = grid_search.best_params_['alpha']\n",
    "best_r2 = grid_search.best_score_\n",
    "print(f'\\nBest alpha: {best_alpha}')\n",
    "print(f'Best cross-validated R² score: {best_r2}')\n"
   ]
  },
  {
   "cell_type": "markdown",
   "metadata": {},
   "source": [
    "`lasso` regression"
   ]
  },
  {
   "cell_type": "code",
   "execution_count": null,
   "metadata": {},
   "outputs": [],
   "source": [
    "# Define the Lasso model\n",
    "lasso = Lasso()\n",
    "\n",
    "# Define the parameter grid for alpha\n",
    "param_grid = {'alpha': [0.001, 0.01, 0.1, 1, 10, 100]}\n",
    "\n",
    "# Set up GridSearchCV\n",
    "grid_search = GridSearchCV(estimator=lasso, param_grid=param_grid, scoring='r2', cv=5, return_train_score=True)\n",
    "\n",
    "# Fit GridSearchCV\n",
    "grid_search.fit(X_train, y_train)\n",
    "\n",
    "# Extract results\n",
    "results = pd.DataFrame(grid_search.cv_results_)\n",
    "\n",
    "# Print the full grid search results\n",
    "print(\"Grid Search Results:\")\n",
    "print(results[['param_alpha', 'mean_test_score', 'mean_train_score', ]])\n",
    "\n",
    "# Extract values for plotting\n",
    "alphas = param_grid['alpha']\n",
    "mean_test_scores = results['mean_test_score']\n",
    "mean_train_scores = results['mean_train_score']\n",
    "\n",
    "# Plot alpha vs. R² score\n",
    "plt.figure(figsize=(8, 6))\n",
    "plt.plot(alphas, mean_test_scores, marker='o', linestyle='--', color='b', label='Mean Test Score')\n",
    "plt.plot(alphas, mean_train_scores, marker='s', linestyle='-', color='r', label='Mean Train Score')\n",
    "plt.xscale('log')  # Use log scale for alpha\n",
    "plt.xlabel('Alpha (Regularization Strength)')\n",
    "plt.ylabel('R² Score')\n",
    "plt.title('Effect of Alpha on R² Score (Lasso Regression)')\n",
    "plt.legend()\n",
    "plt.grid(True)\n",
    "plt.show()\n",
    "\n",
    "# Best alpha and score\n",
    "best_alpha = grid_search.best_params_['alpha']\n",
    "best_r2 = grid_search.best_score_\n",
    "print(f'\\nBest alpha: {best_alpha}')\n",
    "print(f'Best cross-validated R² score: {best_r2}')\n"
   ]
  }
 ],
 "metadata": {
  "kernelspec": {
   "display_name": "Python 3 (ipykernel)",
   "language": "python",
   "name": "python3"
  },
  "language_info": {
   "codemirror_mode": {
    "name": "ipython",
    "version": 3
   },
   "file_extension": ".py",
   "mimetype": "text/x-python",
   "name": "python",
   "nbconvert_exporter": "python",
   "pygments_lexer": "ipython3",
   "version": "3.12.3"
  }
 },
 "nbformat": 4,
 "nbformat_minor": 4
}
